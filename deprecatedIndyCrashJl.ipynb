{
 "cells": [
  {
   "cell_type": "code",
   "execution_count": 1,
   "metadata": {},
   "outputs": [],
   "source": [
    "using HTTP, JSON, JuliaDB, DataFrames"
   ]
  },
  {
   "cell_type": "code",
   "execution_count": 2,
   "metadata": {},
   "outputs": [
    {
     "data": {
      "text/plain": [
       "HTTP.Messages.Response:\n",
       "\"\"\"\n",
       "HTTP/1.1 200 OK\r\n",
       "Server: nginx/1.10.3 (Ubuntu)\r\n",
       "Date: Fri, 06 Sep 2019 00:03:58 GMT\r\n",
       "Content-Type: application/json;charset=utf-8\r\n",
       "Content-Length: 921011\r\n",
       "Connection: keep-alive\r\n",
       "Pragma: no-cache\r\n",
       "Cache-Control: no-cache\r\n",
       "\r\n",
       "{\"help\": \"https://hub.mph.in.gov/api/3/action/help_show?name=datastore_search_sql\", \"success\": true, \"result\": {\"records\": [{\"COLLISION_TIME\": \"07:10\", \"VEHUSECDE\": null, \"GENDERCDE\": \"M\", \"TRAFFICCNTLOPIND\": \"Y\", \"SAFETYEQUUSEDDESCR\": \"\", \"SCHOOLZONEIND\": \"N\", \"VEHLICSTATECDE\": \"\", \"TIMENOTIFIEDAMPMTXT\": \"PM\", \"PRIMARYFACTORDESCR\": \"PEDESTRIAN ACTION\", \"STATEPROPIND\": \"\", \"INVESTCOMPLETEIND\": \"Y\", \"RDWYRAMPTXT\": \"\", \"RESULTALCHTXT\": \"\", \"SPEEDLIMITTXT\": \"\", \"MANNERCOLLCDE\": \"12\", \"PRECOLLACTCDE\": null, \"RUMBLESTRIPIND\": \"N\", \"LIGHTCONDCDE\": \"3\", \"DISTRICT_NUM\": \"3\", \"TIMEARRIVEDTXT\": \"07:21\", \"EMGERENCY_RUN\": \"N\", \"MANNERCOLLDESCR\": \"Other (Explain in Narrative)\", \"INJNATURECDE\": \"12\", \"INCORPLIMITIND\": \"Y\", \"LONGDECIMALNMB\": \"0\", \"CONSTRUCTIND\": \"N\", \"SUBDISTRICT\": \"Indianapolis\", \"FIREIND\": \"\", \"PROPDAMAGEDESCR\": \"\", \"PROPDAMAGECDE\": null, \"STATUSCDE\": \"AC\", \"COLLISION_YEAR\": \"2017\", \"PERSONNMB\": \"1\", \"EJECTTRAPDESCR\": \"\", \"COLLISION_MONTH\": \"NOV\", \"VEHMAKETXT\": \"\", \"RESULTDRUGIND\":\n",
       "⋮\n",
       "921011-byte body\n",
       "\"\"\""
      ]
     },
     "execution_count": 2,
     "metadata": {},
     "output_type": "execute_result"
    }
   ],
   "source": [
    "\"\"\"\n",
    "Queries the ARIES database of crash data maintained by the Indiana State Police. The HTML carries the following SQL query pretty printed:\n",
    "\n",
    "SELECT * from \"911880b1-d0bb-4168-a5c1-a52dcc291445\" \n",
    "WHERE \"PERSONTYPEDESCR\" IN ('Pedal Cyclist','Pedestrian') \n",
    "AND \"AGE_GRP\" IN ('1-4 Years','5-14 Years','15-24 Years') \n",
    "AND \"COUNTYDESCR\" IN ('Marion','Boone','Hamilton','Hancock','Shelby','Johnson','Morgan','Hendricks')\n",
    "\n",
    "This gathers data regarding child pedestrians/cyclists who live in Marion County (Indianapolis) or one of the donut counties.\n",
    "\"\"\"\n",
    "\n",
    "response = HTTP.get(\"https://hub.mph.in.gov/api/3/action/datastore_search_sql?sql=SELECT%20*%20from%20%22911880b1-d0bb-4168-a5c1-a52dcc291445%22%20WHERE%20%22PERSONTYPEDESCR%22%20IN%20(%27Pedal%20Cyclist%27,%27Pedestrian%27)%20AND%20%22AGE_GRP%22%20IN%20(%271-4%20Years%27,%275-14%20Years%27,%2715-24%20Years%27)%20AND%20%22COUNTYDESCR%22%20IN%20(%27Marion%27,%27Boone%27,%27Hamilton%27,%27Hancock%27,%27Shelby%27,%27Johnson%27,%27Morgan%27,%27Hendricks%27)\")"
   ]
  },
  {
   "cell_type": "code",
   "execution_count": 3,
   "metadata": {},
   "outputs": [
    {
     "data": {
      "text/plain": [
       "Table with 275 rows, 109 columns:\n",
       "Columns:\n",
       "\u001b[1m#    \u001b[22m\u001b[1mcolname                   \u001b[22m\u001b[1mtype\u001b[22m\n",
       "─────────────────────────────────────────────────────\n",
       "1    TRAVDIRCDE                String\n",
       "2    OCCUPSNMB                 Nothing\n",
       "3    CONSTRUCTIND              String\n",
       "4    RESULTDRUGIND             String\n",
       "5    EJECTTRAPDESCR            String\n",
       "6    GENDERCDE                 String\n",
       "7    COUNTY_STATE              String\n",
       "8    CITYDESCR                 String\n",
       "9    INJNATURECDE              String\n",
       "10   VEHMAKETXT                String\n",
       "11   INDEXING_NUMBER           String\n",
       "12   PROPDAMAGECDE             Union{Nothing, String}\n",
       "13   WEATHERDESCR              String\n",
       "14   TOWEDIND                  String\n",
       "15   DEERNMB                   String\n",
       "16   INJSTATUSDESCR            String\n",
       "17   INJLOCCDESCR              String\n",
       "18   MANNERCOLLDESCR           String\n",
       "19   PERSONTYPEDESCR           String\n",
       "20   UNITTYPEDESCR             String\n",
       "21   ROADTYPEDESCR             String\n",
       "22   PRECOLLACTCDE             Nothing\n",
       "23   INTERINTERCHANGETXT       String\n",
       "24   DISTRICT_NUM              Union{Nothing, String}\n",
       "25   INVESTCOMPLETEIND         String\n",
       "26   MOTORVEHINVOLVEDNMB       String\n",
       "27   ROADTYPECDE               Nothing\n",
       "28   LONGDECIMALNMB            Union{Nothing, String}\n",
       "29   AGE_GRP                   String\n",
       "30   COLLISION_TIME_AM_PM      String\n",
       "31   COLLEVENTDESCR            String\n",
       "32   UNIT_MR_NUMBER            String\n",
       "33   LIGHTCONDDESCR            String\n",
       "34   PRECOLLACTDESCR           String\n",
       "35   LATDECIMALNMB             Union{Nothing, String}\n",
       "36   COLLISION_MONTH           String\n",
       "37   EMGERENCY_RUN             String\n",
       "38   STATUSCDE                 String\n",
       "39   TIMENOTIFIEDAMPMTXT       String\n",
       "40   DEADNMB                   String\n",
       "41   PROPDAMAGEDESCR           String\n",
       "42   COUNTYDESCR               String\n",
       "43   WEATHERCDE                String\n",
       "44   DISTRICT                  String\n",
       "45   VEHUSEDESCR               String\n",
       "46   COLLDTE                   String\n",
       "47   _full_text                String\n",
       "48   CITYCDE                   String\n",
       "49   SAFETYEQUUSEDDESCR        String\n",
       "50   SUBDISTRICT               String\n",
       "51   UNIQUELOCATIONID          String\n",
       "52   EJECTTRAPCDE              String\n",
       "53   AGENCYORITXT              String\n",
       "54   SURFACETYPEDESCR          String\n",
       "55   RDWYSUFFIXTXT             String\n",
       "56   FIREIND                   String\n",
       "57   VEHMODELTXT               String\n",
       "58   SPEEDLIMITTXT             String\n",
       "59   INCORPLIMITIND            String\n",
       "60   VEHLICSTATECDE            String\n",
       "61   MANNERCOLLCDE             Union{Nothing, String}\n",
       "62   TRAFFICCNTRLDESCR         String\n",
       "63   PRIMARYFACTORCDE          String\n",
       "64   VEHUSECDE                 Nothing\n",
       "65   TESTGIVENCDE              String\n",
       "66   PRIMARYFACTORDESCR        String\n",
       "67   COLLEVENTCDE              Nothing\n",
       "68   COLLISION_TIME            String\n",
       "69   LIGHTCONDCDE              String\n",
       "70   RESULTALCHTXT             String\n",
       "71   SURFACETYPECDE            String\n",
       "72   POSINVEHDESCR             String\n",
       "73   INJLOCCDE                 String\n",
       "74   TESTGIVENDESCR            String\n",
       "75   AGENCYORIDESCR            String\n",
       "76   RUMBLESTRIPIND            String\n",
       "77   SAFETYEQUUSEDCDE          String\n",
       "78   SCHOOLZONEIND             String\n",
       "79   INDIVIDUAL_MR_RECORD      String\n",
       "80   SURFACETYPECDE_CONDDESCR  String\n",
       "81   _id                       Int64\n",
       "82   TRAFFICCNTRLCDE           Union{Nothing, String}\n",
       "83   TRAFFICCNTLOPIND          String\n",
       "84   RDWYRAMPTXT               String\n",
       "85   COUNTYCDE                 String\n",
       "86   PHOTOSTAKENIND            String\n",
       "87   UNITTYPECDE               String\n",
       "88   INJSTATUSCDE              String\n",
       "89   HITRUNIND                 String\n",
       "90   TIMEARRIVEDAMPMTXT        String\n",
       "91   COLLISION_DAY             String\n",
       "92   TIMEARRIVEDTXT            String\n",
       "93   INJNATUREDESCR            String\n",
       "94   AGGRESSIVEDRIVEIND        String\n",
       "95   COLLISION_YEAR            String\n",
       "96   TRAVDIRDESCR              String\n",
       "97   PERSONTYPECDE             String\n",
       "98   INJUREDNMB                String\n",
       "99   SAFETYEQUEFFIND           String\n",
       "100  STATEPROPIND              String\n",
       "101  POSINVEHCDE               String\n",
       "102  UNITNMB                   String\n",
       "103  TIMENOTIFIEDTXT           String\n",
       "104  PERSONNMB                 String\n",
       "105  UNIT_VEHICLE_NUMBER       String\n",
       "106  TRAILERSINVOLVEDNMB       String\n",
       "107  AXELSTXT                  Nothing\n",
       "108  VEHLICSTATEDESCR          String\n",
       "109  VEHYEARTXT                Nothing"
      ]
     },
     "execution_count": 3,
     "metadata": {},
     "output_type": "execute_result"
    }
   ],
   "source": [
    "rawData = response.body |> String |> JSON.parse\n",
    "records = rawData[\"result\"][\"records\"]\n",
    "df = DataFrame()\n",
    "\n",
    "for key in keys(first(records))\n",
    "    df[!,Symbol(key)] = [record[key] for record in records]\n",
    "end\n",
    "\n",
    "tab = df |> table"
   ]
  }
 ],
 "metadata": {
  "kernel_info": {
   "name": "julia-1.0"
  },
  "kernelspec": {
   "display_name": "Julia 1.0.3",
   "language": "julia",
   "name": "julia-1.0"
  },
  "language_info": {
   "file_extension": ".jl",
   "mimetype": "application/julia",
   "name": "julia",
   "version": "1.0.3"
  },
  "nteract": {
   "version": "0.14.5"
  }
 },
 "nbformat": 4,
 "nbformat_minor": 4
}
