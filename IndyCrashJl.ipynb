{
  "cells": [
    {
      "cell_type": "code",
      "source": [
        "using HTTP, JSON, JuliaDB, DataFrames"
      ],
      "outputs": [],
      "execution_count": 1,
      "metadata": {}
    },
    {
      "cell_type": "code",
      "source": [
        "\"\"\"\n",
        "Queries the ARIES database of crash data maintained by the Indiana State Police. The HTML carries the following SQL query pretty printed:\n",
        "\n",
        "SELECT * from \"911880b1-d0bb-4168-a5c1-a52dcc291445\" \n",
        "WHERE \"PERSONTYPEDESCR\" IN ('Pedal Cyclist','Pedestrian') \n",
        "AND \"AGE_GRP\" IN ('1-4 Years','5-14 Years','15-24 Years') \n",
        "AND \"COUNTYDESCR\" IN ('Marion','Boone','Hamilton','Hancock','Shelby','Johnson','Morgan','Hendricks')\n",
        "\n",
        "This gathers data regarding child pedestrians/cyclists who live in Marion County (Indianapolis) or one of the donut counties.\n",
        "\"\"\"\n",
        "\n",
        "response = HTTP.get(\"https://hub.mph.in.gov/api/3/action/datastore_search_sql?sql=SELECT%20*%20from%20%22911880b1-d0bb-4168-a5c1-a52dcc291445%22%20WHERE%20%22PERSONTYPEDESCR%22%20IN%20(%27Pedal%20Cyclist%27,%27Pedestrian%27)%20AND%20%22AGE_GRP%22%20IN%20(%271-4%20Years%27,%275-14%20Years%27,%2715-24%20Years%27)%20AND%20%22COUNTYDESCR%22%20IN%20(%27Marion%27,%27Boone%27,%27Hamilton%27,%27Hancock%27,%27Shelby%27,%27Johnson%27,%27Morgan%27,%27Hendricks%27)\")"
      ],
      "outputs": [
        {
          "output_type": "execute_result",
          "execution_count": 2,
          "data": {
            "text/plain": [
              "HTTP.Messages.Response:\n",
              "\"\"\"\n",
              "HTTP/1.1 200 OK\r\n",
              "Server: nginx/1.10.3 (Ubuntu)\r\n",
              "Date: Fri, 30 Aug 2019 18:24:08 GMT\r\n",
              "Content-Type: application/json;charset=utf-8\r\n",
              "Content-Length: 921011\r\n",
              "Connection: keep-alive\r\n",
              "Pragma: no-cache\r\n",
              "Cache-Control: no-cache\r\n",
              "\r\n",
              "{\"help\": \"https://hub.mph.in.gov/api/3/action/help_show?name=datastore_search_sql\", \"success\": true, \"result\": {\"records\": [{\"COLLISION_TIME\": \"07:10\", \"VEHUSECDE\": null, \"GENDERCDE\": \"M\", \"TRAFFICCNTLOPIND\": \"Y\", \"SAFETYEQUUSEDDESCR\": \"\", \"SCHOOLZONEIND\": \"N\", \"VEHLICSTATECDE\": \"\", \"TIMENOTIFIEDAMPMTXT\": \"PM\", \"PRIMARYFACTORDESCR\": \"PEDESTRIAN ACTION\", \"STATEPROPIND\": \"\", \"INVESTCOMPLETEIND\": \"Y\", \"RDWYRAMPTXT\": \"\", \"RESULTALCHTXT\": \"\", \"SPEEDLIMITTXT\": \"\", \"MANNERCOLLCDE\": \"12\", \"PRECOLLACTCDE\": null, \"RUMBLESTRIPIND\": \"N\", \"LIGHTCONDCDE\": \"3\", \"DISTRICT_NUM\": \"3\", \"TIMEARRIVEDTXT\": \"07:21\", \"EMGERENCY_RUN\": \"N\", \"MANNERCOLLDESCR\": \"Other (Explain in Narrative)\", \"INJNATURECDE\": \"12\", \"INCORPLIMITIND\": \"Y\", \"LONGDECIMALNMB\": \"0\", \"CONSTRUCTIND\": \"N\", \"SUBDISTRICT\": \"Indianapolis\", \"FIREIND\": \"\", \"PROPDAMAGEDESCR\": \"\", \"PROPDAMAGECDE\": null, \"STATUSCDE\": \"AC\", \"COLLISION_YEAR\": \"2017\", \"PERSONNMB\": \"1\", \"EJECTTRAPDESCR\": \"\", \"COLLISION_MONTH\": \"NOV\", \"VEHMAKETXT\": \"\", \"RESULTDRUGIND\":\n",
              "⋮\n",
              "921011-byte body\n",
              "\"\"\""
            ]
          },
          "metadata": {}
        }
      ],
      "execution_count": 2,
      "metadata": {}
    },
    {
      "cell_type": "code",
      "source": [
        "data = response.body |> String |> JSON.parse"
      ],
      "outputs": [
        {
          "output_type": "execute_result",
          "execution_count": 3,
          "data": {
            "text/plain": [
              "Dict{String,Any} with 3 entries:\n",
              "  \"success\" => true\n",
              "  \"help\"    => \"https://hub.mph.in.gov/api/3/action/help_show?name=datastore_se…\n",
              "  \"result\"  => Dict{String,Any}(\"records\"=>Any[Dict{String,Any}(\"TRAVDIRCDE\"=>\"…"
            ]
          },
          "metadata": {}
        }
      ],
      "execution_count": 3,
      "metadata": {}
    },
    {
      "cell_type": "code",
      "source": [
        "tab = vcat(DataFrame.(data[\"result\"][\"records\"])...) |> table"
      ],
      "outputs": [
        {
          "output_type": "execute_result",
          "execution_count": 4,
          "data": {
            "text/plain": [
              "Table with 275 rows, 109 columns:\n",
              "Columns:\n",
              "\u001b[1m#    \u001b[22m\u001b[1mcolname                   \u001b[22m\u001b[1mtype\u001b[22m\n",
              "─────────────────────────────────────────────────────\n",
              "1    AGENCYORIDESCR            String\n",
              "2    AGENCYORITXT              String\n",
              "3    AGE_GRP                   String\n",
              "4    AGGRESSIVEDRIVEIND        String\n",
              "5    AXELSTXT                  Nothing\n",
              "6    CITYCDE                   String\n",
              "7    CITYDESCR                 String\n",
              "8    COLLDTE                   String\n",
              "9    COLLEVENTCDE              Nothing\n",
              "10   COLLEVENTDESCR            String\n",
              "11   COLLISION_DAY             String\n",
              "12   COLLISION_MONTH           String\n",
              "13   COLLISION_TIME            String\n",
              "14   COLLISION_TIME_AM_PM      String\n",
              "15   COLLISION_YEAR            String\n",
              "16   CONSTRUCTIND              String\n",
              "17   COUNTYCDE                 String\n",
              "18   COUNTYDESCR               String\n",
              "19   COUNTY_STATE              String\n",
              "20   DEADNMB                   String\n",
              "21   DEERNMB                   String\n",
              "22   DISTRICT                  String\n",
              "23   DISTRICT_NUM              Union{Nothing, String}\n",
              "24   EJECTTRAPCDE              String\n",
              "25   EJECTTRAPDESCR            String\n",
              "26   EMGERENCY_RUN             String\n",
              "27   FIREIND                   String\n",
              "28   GENDERCDE                 String\n",
              "29   HITRUNIND                 String\n",
              "30   INCORPLIMITIND            String\n",
              "31   INDEXING_NUMBER           String\n",
              "32   INDIVIDUAL_MR_RECORD      String\n",
              "33   INJLOCCDE                 String\n",
              "34   INJLOCCDESCR              String\n",
              "35   INJNATURECDE              String\n",
              "36   INJNATUREDESCR            String\n",
              "37   INJSTATUSCDE              String\n",
              "38   INJSTATUSDESCR            String\n",
              "39   INJUREDNMB                String\n",
              "40   INTERINTERCHANGETXT       String\n",
              "41   INVESTCOMPLETEIND         String\n",
              "42   LATDECIMALNMB             Union{Nothing, String}\n",
              "43   LIGHTCONDCDE              String\n",
              "44   LIGHTCONDDESCR            String\n",
              "45   LONGDECIMALNMB            Union{Nothing, String}\n",
              "46   MANNERCOLLCDE             Union{Nothing, String}\n",
              "47   MANNERCOLLDESCR           String\n",
              "48   MOTORVEHINVOLVEDNMB       String\n",
              "49   OCCUPSNMB                 Nothing\n",
              "50   PERSONNMB                 String\n",
              "51   PERSONTYPECDE             String\n",
              "52   PERSONTYPEDESCR           String\n",
              "53   PHOTOSTAKENIND            String\n",
              "54   POSINVEHCDE               String\n",
              "55   POSINVEHDESCR             String\n",
              "56   PRECOLLACTCDE             Nothing\n",
              "57   PRECOLLACTDESCR           String\n",
              "58   PRIMARYFACTORCDE          String\n",
              "59   PRIMARYFACTORDESCR        String\n",
              "60   PROPDAMAGECDE             Union{Nothing, String}\n",
              "61   PROPDAMAGEDESCR           String\n",
              "62   RDWYRAMPTXT               String\n",
              "63   RDWYSUFFIXTXT             String\n",
              "64   RESULTALCHTXT             String\n",
              "65   RESULTDRUGIND             String\n",
              "66   ROADTYPECDE               Nothing\n",
              "67   ROADTYPEDESCR             String\n",
              "68   RUMBLESTRIPIND            String\n",
              "69   SAFETYEQUEFFIND           String\n",
              "70   SAFETYEQUUSEDCDE          String\n",
              "71   SAFETYEQUUSEDDESCR        String\n",
              "72   SCHOOLZONEIND             String\n",
              "73   SPEEDLIMITTXT             String\n",
              "74   STATEPROPIND              String\n",
              "75   STATUSCDE                 String\n",
              "76   SUBDISTRICT               String\n",
              "77   SURFACETYPECDE            String\n",
              "78   SURFACETYPECDE_CONDDESCR  String\n",
              "79   SURFACETYPEDESCR          String\n",
              "80   TESTGIVENCDE              String\n",
              "81   TESTGIVENDESCR            String\n",
              "82   TIMEARRIVEDAMPMTXT        String\n",
              "83   TIMEARRIVEDTXT            String\n",
              "84   TIMENOTIFIEDAMPMTXT       String\n",
              "85   TIMENOTIFIEDTXT           String\n",
              "86   TOWEDIND                  String\n",
              "87   TRAFFICCNTLOPIND          String\n",
              "88   TRAFFICCNTRLCDE           Union{Nothing, String}\n",
              "89   TRAFFICCNTRLDESCR         String\n",
              "90   TRAILERSINVOLVEDNMB       String\n",
              "91   TRAVDIRCDE                String\n",
              "92   TRAVDIRDESCR              String\n",
              "93   UNIQUELOCATIONID          String\n",
              "94   UNITNMB                   String\n",
              "95   UNITTYPECDE               String\n",
              "96   UNITTYPEDESCR             String\n",
              "97   UNIT_MR_NUMBER            String\n",
              "98   UNIT_VEHICLE_NUMBER       String\n",
              "99   VEHLICSTATECDE            String\n",
              "100  VEHLICSTATEDESCR          String\n",
              "101  VEHMAKETXT                String\n",
              "102  VEHMODELTXT               String\n",
              "103  VEHUSECDE                 Nothing\n",
              "104  VEHUSEDESCR               String\n",
              "105  VEHYEARTXT                Nothing\n",
              "106  WEATHERCDE                String\n",
              "107  WEATHERDESCR              String\n",
              "108  _full_text                String\n",
              "109  _id                       Int64"
            ]
          },
          "metadata": {}
        }
      ],
      "execution_count": 4,
      "metadata": {}
    }
  ],
  "metadata": {
    "kernelspec": {
      "name": "julia-1.0",
      "language": "julia",
      "display_name": "Julia 1.0.3"
    },
    "language_info": {
      "file_extension": ".jl",
      "name": "julia",
      "mimetype": "application/julia",
      "version": "1.0.3"
    },
    "kernel_info": {
      "name": "julia-1.0"
    },
    "nteract": {
      "version": "0.14.5"
    }
  },
  "nbformat": 4,
  "nbformat_minor": 4
}