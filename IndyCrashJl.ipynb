{
 "cells": [
  {
   "cell_type": "code",
   "execution_count": 2,
   "metadata": {},
   "outputs": [],
   "source": [
    "using HTTP, JSON, JuliaDB, DataFrames"
   ]
  },
  {
   "cell_type": "code",
   "execution_count": 3,
   "metadata": {},
   "outputs": [
    {
     "data": {
      "text/plain": [
       "HTTP.Messages.Response:\n",
       "\"\"\"\n",
       "HTTP/1.1 200 OK\r\n",
       "Server: nginx/1.10.3 (Ubuntu)\r\n",
       "Date: Thu, 29 Aug 2019 21:31:59 GMT\r\n",
       "Content-Type: application/json;charset=utf-8\r\n",
       "Content-Length: 921011\r\n",
       "Connection: keep-alive\r\n",
       "Pragma: no-cache\r\n",
       "Cache-Control: no-cache\r\n",
       "\r\n",
       "{\"help\": \"https://hub.mph.in.gov/api/3/action/help_show?name=datastore_search_sql\", \"success\": true, \"result\": {\"records\": [{\"COLLISION_TIME\": \"07:10\", \"VEHUSECDE\": null, \"GENDERCDE\": \"M\", \"TRAFFICCNTLOPIND\": \"Y\", \"SAFETYEQUUSEDDESCR\": \"\", \"SCHOOLZONEIND\": \"N\", \"VEHLICSTATECDE\": \"\", \"TIMENOTIFIEDAMPMTXT\": \"PM\", \"PRIMARYFACTORDESCR\": \"PEDESTRIAN ACTION\", \"STATEPROPIND\": \"\", \"INVESTCOMPLETEIND\": \"Y\", \"RDWYRAMPTXT\": \"\", \"RESULTALCHTXT\": \"\", \"SPEEDLIMITTXT\": \"\", \"MANNERCOLLCDE\": \"12\", \"PRECOLLACTCDE\": null, \"RUMBLESTRIPIND\": \"N\", \"LIGHTCONDCDE\": \"3\", \"DISTRICT_NUM\": \"3\", \"TIMEARRIVEDTXT\": \"07:21\", \"EMGERENCY_RUN\": \"N\", \"MANNERCOLLDESCR\": \"Other (Explain in Narrative)\", \"INJNATURECDE\": \"12\", \"INCORPLIMITIND\": \"Y\", \"LONGDECIMALNMB\": \"0\", \"CONSTRUCTIND\": \"N\", \"SUBDISTRICT\": \"Indianapolis\", \"FIREIND\": \"\", \"PROPDAMAGEDESCR\": \"\", \"PROPDAMAGECDE\": null, \"STATUSCDE\": \"AC\", \"COLLISION_YEAR\": \"2017\", \"PERSONNMB\": \"1\", \"EJECTTRAPDESCR\": \"\", \"COLLISION_MONTH\": \"NOV\", \"VEHMAKETXT\": \"\", \"RESULTDRUGIND\":\n",
       "⋮\n",
       "921011-byte body\n",
       "\"\"\""
      ]
     },
     "execution_count": 3,
     "metadata": {},
     "output_type": "execute_result"
    }
   ],
   "source": [
    "response = HTTP.get(\"https://hub.mph.in.gov/api/3/action/datastore_search_sql?sql=SELECT%20*%20from%20%22911880b1-d0bb-4168-a5c1-a52dcc291445%22%20WHERE%20%22PERSONTYPEDESCR%22%20IN%20(%27Pedal%20Cyclist%27,%27Pedestrian%27)%20AND%20%22AGE_GRP%22%20IN%20(%271-4%20Years%27,%275-14%20Years%27,%2715-24%20Years%27)%20AND%20%22COUNTYDESCR%22%20IN%20(%27Marion%27,%27Boone%27,%27Hamilton%27,%27Hancock%27,%27Shelby%27,%27Johnson%27,%27Morgan%27,%27Hendricks%27)\")"
   ]
  },
  {
   "cell_type": "code",
   "execution_count": 4,
   "metadata": {},
   "outputs": [
    {
     "data": {
      "text/plain": [
       "Dict{String,Any} with 3 entries:\n",
       "  \"success\" => true\n",
       "  \"help\"    => \"https://hub.mph.in.gov/api/3/action/help_show?name=datastore_se…\n",
       "  \"result\"  => Dict{String,Any}(\"records\"=>Any[Dict{String,Any}(\"TRAVDIRCDE\"=>\"…"
      ]
     },
     "execution_count": 4,
     "metadata": {},
     "output_type": "execute_result"
    }
   ],
   "source": [
    "#data = JSON.parse(String(response.body))\n",
    "data = response.body |> String |> JSON.parse"
   ]
  },
  {
   "cell_type": "code",
   "execution_count": null,
   "metadata": {},
   "outputs": [],
   "source": [
    "tab = vcat(DataFrame.(data[\"result\"][\"records\"])...) |> table"
   ]
  }
 ],
 "metadata": {
  "kernelspec": {
   "display_name": "Julia 1.0.3",
   "language": "julia",
   "name": "julia-1.0"
  },
  "language_info": {
   "file_extension": ".jl",
   "mimetype": "application/julia",
   "name": "julia",
   "version": "1.0.3"
  }
 },
 "nbformat": 4,
 "nbformat_minor": 4
}
