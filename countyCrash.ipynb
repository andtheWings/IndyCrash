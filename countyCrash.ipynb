{
 "cells": [
  {
   "cell_type": "code",
   "execution_count": 47,
   "metadata": {},
   "outputs": [
    {
     "name": "stderr",
     "output_type": "stream",
     "text": [
      "Parsed with column specification:\n",
      "cols(\n",
      "  .default = col_character(),\n",
      "  INDEXING_NUMBER = \u001b[32mcol_double()\u001b[39m,\n",
      "  INDIVIDUAL_MR_RECORD = \u001b[32mcol_double()\u001b[39m,\n",
      "  PERSONNMB = \u001b[32mcol_double()\u001b[39m,\n",
      "  GENDERCDE = \u001b[33mcol_logical()\u001b[39m,\n",
      "  AGE_GRP = \u001b[33mcol_logical()\u001b[39m,\n",
      "  POSINVEHCDE = \u001b[33mcol_logical()\u001b[39m,\n",
      "  POSINVEHDESCR = \u001b[33mcol_logical()\u001b[39m,\n",
      "  EJECTTRAPCDE = \u001b[33mcol_logical()\u001b[39m,\n",
      "  EJECTTRAPDESCR = \u001b[33mcol_logical()\u001b[39m,\n",
      "  SAFETYEQUUSEDCDE = \u001b[33mcol_logical()\u001b[39m,\n",
      "  SAFETYEQUUSEDDESCR = \u001b[33mcol_logical()\u001b[39m,\n",
      "  SAFETYEQUEFFIND = \u001b[33mcol_logical()\u001b[39m,\n",
      "  INJSTATUSCDE = \u001b[33mcol_logical()\u001b[39m,\n",
      "  INJSTATUSDESCR = \u001b[33mcol_logical()\u001b[39m,\n",
      "  INJNATURECDE = \u001b[33mcol_logical()\u001b[39m,\n",
      "  INJNATUREDESCR = \u001b[33mcol_logical()\u001b[39m,\n",
      "  INJLOCCDE = \u001b[33mcol_logical()\u001b[39m,\n",
      "  INJLOCCDESCR = \u001b[33mcol_logical()\u001b[39m,\n",
      "  TESTGIVENCDE = \u001b[33mcol_logical()\u001b[39m,\n",
      "  TESTGIVENDESCR = \u001b[33mcol_logical()\u001b[39m\n",
      "  # ... with 26 more columns\n",
      ")\n",
      "See spec(...) for full column specifications.\n",
      "Warning message:\n",
      "“3547761 parsing failures.\n",
      " row          col           expected actual                        file\n",
      "1852 STATEPROPIND 1/0/T/F/TRUE/FALSE      N 'aries_crash_data_2018.csv'\n",
      "1862 STATEPROPIND 1/0/T/F/TRUE/FALSE      N 'aries_crash_data_2018.csv'\n",
      "1877 STATEPROPIND 1/0/T/F/TRUE/FALSE      N 'aries_crash_data_2018.csv'\n",
      "1928 STATEPROPIND 1/0/T/F/TRUE/FALSE      N 'aries_crash_data_2018.csv'\n",
      "2283 STATEPROPIND 1/0/T/F/TRUE/FALSE      N 'aries_crash_data_2018.csv'\n",
      ".... ............ .................. ...... ...........................\n",
      "See problems(...) for more details.\n",
      "”"
     ]
    },
    {
     "data": {
      "text/html": [
       "<table>\n",
       "<caption>A tibble: 6 × 107</caption>\n",
       "<thead>\n",
       "\t<tr><th scope=col>INDEXING_NUMBER</th><th scope=col>INDIVIDUAL_MR_RECORD</th><th scope=col>UNIT_MR_NUMBER</th><th scope=col>STATUSCDE</th><th scope=col>PERSONNMB</th><th scope=col>PERSONTYPECDE</th><th scope=col>PERSONTYPEDESCR</th><th scope=col>GENDERCDE</th><th scope=col>AGE_GRP</th><th scope=col>POSINVEHCDE</th><th scope=col>⋯</th><th scope=col>TRAVDIRDESCR</th><th scope=col>EMGERENCY_RUN</th><th scope=col>FIREIND</th><th scope=col>COLLEVENTCDE</th><th scope=col>COLLEVENTDESCR</th><th scope=col>PRECOLLACTCDE</th><th scope=col>PRECOLLACTDESCR</th><th scope=col>DISTRICT</th><th scope=col>DISTRICT_NUM</th><th scope=col>SUBDISTRICT</th></tr>\n",
       "\t<tr><th scope=col>&lt;dbl&gt;</th><th scope=col>&lt;dbl&gt;</th><th scope=col>&lt;chr&gt;</th><th scope=col>&lt;chr&gt;</th><th scope=col>&lt;dbl&gt;</th><th scope=col>&lt;chr&gt;</th><th scope=col>&lt;chr&gt;</th><th scope=col>&lt;lgl&gt;</th><th scope=col>&lt;lgl&gt;</th><th scope=col>&lt;lgl&gt;</th><th scope=col>⋯</th><th scope=col>&lt;chr&gt;</th><th scope=col>&lt;chr&gt;</th><th scope=col>&lt;chr&gt;</th><th scope=col>&lt;chr&gt;</th><th scope=col>&lt;chr&gt;</th><th scope=col>&lt;chr&gt;</th><th scope=col>&lt;chr&gt;</th><th scope=col>&lt;chr&gt;</th><th scope=col>&lt;dbl&gt;</th><th scope=col>&lt;chr&gt;</th></tr>\n",
       "</thead>\n",
       "<tbody>\n",
       "\t<tr><td>903091099001</td><td>903091099</td><td>01</td><td>AC</td><td>1</td><td>05</td><td>Owner Vehicle</td><td>NA</td><td>NA</td><td>NA</td><td>⋯</td><td>NA</td><td>N</td><td>N</td><td>01</td><td>Another Motor Vehicle</td><td>02</td><td>Backing       </td><td>Greenfield</td><td>3</td><td>Indianapolis</td></tr>\n",
       "\t<tr><td>903084265001</td><td>903084265</td><td>01</td><td>AC</td><td>1</td><td>05</td><td>Owner Vehicle</td><td>NA</td><td>NA</td><td>NA</td><td>⋯</td><td>NA</td><td>N</td><td>N</td><td>01</td><td>Another Motor Vehicle</td><td>02</td><td>Backing       </td><td>Greenfield</td><td>3</td><td>Indianapolis</td></tr>\n",
       "\t<tr><td>903085095001</td><td>903085095</td><td>01</td><td>AC</td><td>1</td><td>05</td><td>Owner Vehicle</td><td>NA</td><td>NA</td><td>NA</td><td>⋯</td><td>NA</td><td>N</td><td>N</td><td>01</td><td>Another Motor Vehicle</td><td>01</td><td>Going Straight</td><td>Greenfield</td><td>3</td><td>Indianapolis</td></tr>\n",
       "\t<tr><td>903085099001</td><td>903085099</td><td>01</td><td>AC</td><td>1</td><td>05</td><td>Owner Vehicle</td><td>NA</td><td>NA</td><td>NA</td><td>⋯</td><td>NA</td><td>N</td><td>N</td><td>01</td><td>Another Motor Vehicle</td><td>01</td><td>Going Straight</td><td>Greenfield</td><td>3</td><td>Indianapolis</td></tr>\n",
       "\t<tr><td>903091166002</td><td>903091166</td><td>01</td><td>AC</td><td>2</td><td>05</td><td>Owner Vehicle</td><td>NA</td><td>NA</td><td>NA</td><td>⋯</td><td>NA</td><td>N</td><td>N</td><td>01</td><td>Another Motor Vehicle</td><td>02</td><td>Backing       </td><td>Greenfield</td><td>3</td><td>Indianapolis</td></tr>\n",
       "\t<tr><td>903091586001</td><td>903091586</td><td>01</td><td>AC</td><td>1</td><td>05</td><td>Owner Vehicle</td><td>NA</td><td>NA</td><td>NA</td><td>⋯</td><td>NA</td><td>N</td><td>N</td><td>01</td><td>Another Motor Vehicle</td><td>02</td><td>Backing       </td><td>Greenfield</td><td>3</td><td>Indianapolis</td></tr>\n",
       "</tbody>\n",
       "</table>\n"
      ],
      "text/latex": [
       "A tibble: 6 × 107\n",
       "\\begin{tabular}{r|lllllllllllllllllllllllllllllllllllllllllllllllllllllllllllllllllllllllllllllllllllllllllllllllllllllllllll}\n",
       " INDEXING\\_NUMBER & INDIVIDUAL\\_MR\\_RECORD & UNIT\\_MR\\_NUMBER & STATUSCDE & PERSONNMB & PERSONTYPECDE & PERSONTYPEDESCR & GENDERCDE & AGE\\_GRP & POSINVEHCDE & POSINVEHDESCR & EJECTTRAPCDE & EJECTTRAPDESCR & SAFETYEQUUSEDCDE & SAFETYEQUUSEDDESCR & SAFETYEQUEFFIND & INJSTATUSCDE & INJSTATUSDESCR & INJNATURECDE & INJNATUREDESCR & INJLOCCDE & INJLOCCDESCR & TESTGIVENCDE & TESTGIVENDESCR & RESULTALCHTXT & RESULTDRUGIND & AGENCYORITXT & AGENCYORIDESCR & COUNTYCDE & COUNTY\\_STATE & COUNTYDESCR & CITYCDE & CITYDESCR & COLLDTE & COLLISION\\_DAY & COLLISION\\_MONTH & COLLISION\\_YEAR & COLLISION\\_TIME & COLLISION\\_TIME\\_AM\\_PM & MOTORVEHINVOLVEDNMB & TRAILERSINVOLVEDNMB & INJUREDNMB & DEADNMB & DEERNMB & RDWYSUFFIXTXT & RDWYRAMPTXT & INTERINTERCHANGETXT & INCORPLIMITIND & PROPDAMAGECDE & PROPDAMAGEDESCR & LATDECIMALNMB & LONGDECIMALNMB & TRAFFICCNTLOPIND & AGGRESSIVEDRIVEIND & HITRUNIND & SCHOOLZONEIND & RUMBLESTRIPIND & CONSTRUCTIND & LIGHTCONDCDE & LIGHTCONDDESCR & WEATHERCDE & WEATHERDESCR & SURFACETYPECDE\\_CONDDESCR & SURFACETYPECDE & SURFACETYPEDESCR & PRIMARYFACTORCDE & PRIMARYFACTORDESCR & MANNERCOLLCDE & MANNERCOLLDESCR & TIMENOTIFIEDTXT & TIMENOTIFIEDAMPMTXT & TIMEARRIVEDTXT & TIMEARRIVEDAMPMTXT & INVESTCOMPLETEIND & PHOTOSTAKENIND & UNIQUELOCATIONID & STATEPROPIND & TRAFFICCNTRLCDE & TRAFFICCNTRLDESCR & UNITNMB & UNIT\\_VEHICLE\\_NUMBER & UNITTYPECDE & UNITTYPEDESCR & VEHYEARTXT & VEHMAKETXT & VEHMODELTXT & OCCUPSNMB & VEHLICSTATECDE & VEHLICSTATEDESCR & AXELSTXT & SPEEDLIMITTXT & TOWEDIND & VEHUSECDE & VEHUSEDESCR & ROADTYPECDE & ROADTYPEDESCR & TRAVDIRCDE & TRAVDIRDESCR & EMGERENCY\\_RUN & FIREIND & COLLEVENTCDE & COLLEVENTDESCR & PRECOLLACTCDE & PRECOLLACTDESCR & DISTRICT & DISTRICT\\_NUM & SUBDISTRICT\\\\\n",
       " <dbl> & <dbl> & <chr> & <chr> & <dbl> & <chr> & <chr> & <lgl> & <lgl> & <lgl> & <lgl> & <lgl> & <lgl> & <lgl> & <lgl> & <lgl> & <lgl> & <lgl> & <lgl> & <lgl> & <lgl> & <lgl> & <lgl> & <lgl> & <lgl> & <lgl> & <chr> & <chr> & <chr> & <dbl> & <chr> & <chr> & <chr> & <date> & <chr> & <chr> & <dbl> & <time> & <chr> & <dbl> & <dbl> & <dbl> & <dbl> & <dbl> & <chr> & <lgl> & <lgl> & <chr> & <chr> & <chr> & <dbl> & <dbl> & <lgl> & <chr> & <chr> & <chr> & <chr> & <chr> & <chr> & <chr> & <chr> & <chr> & <chr> & <chr> & <chr> & <chr> & <chr> & <chr> & <chr> & <time> & <chr> & <time> & <chr> & <chr> & <chr> & <chr> & <lgl> & <dbl> & <chr> & <dbl> & <dbl> & <chr> & <chr> & <dbl> & <chr> & <chr> & <dbl> & <chr> & <chr> & <dbl> & <chr> & <chr> & <chr> & <chr> & <chr> & <chr> & <chr> & <chr> & <chr> & <chr> & <chr> & <chr> & <chr> & <chr> & <chr> & <dbl> & <chr>\\\\\n",
       "\\hline\n",
       "\t 903091099001 & 903091099 & 01 & AC & 1 & 05 & Owner Vehicle & NA & NA & NA & NA & NA & NA & NA & NA & NA & NA & NA & NA & NA & NA & NA & NA & NA & NA & NA & 0494900 & INDPLS METRO PD & 097 & 49 & Marion & 36000 & Indianapolis & 2018-01-08 & MONDAY    & JAN & 2018 & 03:31:00 & PM & 2 & 0 & 0 & 0 & 0 & ST  & NA & NA & Y & NA & NA                        & 39.71860 & -86.24012 & NA & N & N & N & N & N & 01 & Daylight & 01 & Clear & Dry & 01 & ASPHALT & 14 & UNSAFE BACKING                & 11 & Backing     & 03:34:00 & PM & 03:52:00 & PM & Y & N & WPERRYST      & NA & 12 & None & 1 & 903091099 & 01 & Passenger Car/Station Wagon & 2006 & PONTIAC        & G6S    & 1 & IN & INDIANA & 2 & 20 & N & 01 & Personal (Farm, Company) & 04 & Two Lanes (Two Way)            & E & NA & N & N & 01 & Another Motor Vehicle & 02 & Backing        & Greenfield & 3 & Indianapolis\\\\\n",
       "\t 903084265001 & 903084265 & 01 & AC & 1 & 05 & Owner Vehicle & NA & NA & NA & NA & NA & NA & NA & NA & NA & NA & NA & NA & NA & NA & NA & NA & NA & NA & NA & 0494900 & INDPLS METRO PD & 097 & 49 & Marion & 36000 & Indianapolis & 2018-01-17 & WEDNESDAY & JAN & 2018 & 09:56:00 & AM & 2 & 0 & 0 & 0 & 0 & ST  & NA & NA & Y & NA & NA                        & 39.77550 & -85.97550 & NA & N & N & N & N & N & 01 & Daylight & 01 & Clear & Dry & 01 & ASPHALT & 14 & UNSAFE BACKING                & 11 & Backing     & 10:01:00 & AM & 10:12:00 & AM & Y & N & EWASHINGTONST & NA & 12 & None & 1 & 903084265 & 01 & Passenger Car/Station Wagon & 2014 & GENERAL MOTORS & SAVANA & 1 & IN & INDIANA & 2 & 20 & N & 01 & Personal (Farm, Company) & 05 & Multi-Lane Undivided (Two Way) & W & NA & N & N & 01 & Another Motor Vehicle & 02 & Backing        & Greenfield & 3 & Indianapolis\\\\\n",
       "\t 903085095001 & 903085095 & 01 & AC & 1 & 05 & Owner Vehicle & NA & NA & NA & NA & NA & NA & NA & NA & NA & NA & NA & NA & NA & NA & NA & NA & NA & NA & NA & 0494900 & INDPLS METRO PD & 097 & 49 & Marion & 36000 & Indianapolis & 2018-01-18 & THURSDAY  & JAN & 2018 & 07:54:00 & AM & 2 & 0 & 0 & 0 & 0 & RD  & NA & NA & Y & NA & NA                        & 39.74883 & -86.02233 & NA & N & N & N & N & N & 01 & Daylight & 01 & Clear & Dry & 01 & ASPHALT & 07 & FAILURE TO YIELD RIGHT OF WAY & 07 & Right Angle & 08:17:00 & AM & 08:32:00 & AM & Y & N & BROOKVILLERD  & NA & 12 & None & 1 & 903085095 & 01 & Passenger Car/Station Wagon & 2006 & CHEVROLET      & COBALT & 1 & IN & INDIANA & 2 & 50 & N & 01 & Personal (Farm, Company) & 05 & Multi-Lane Undivided (Two Way) & W & NA & N & N & 01 & Another Motor Vehicle & 01 & Going Straight & Greenfield & 3 & Indianapolis\\\\\n",
       "\t 903085099001 & 903085099 & 01 & AC & 1 & 05 & Owner Vehicle & NA & NA & NA & NA & NA & NA & NA & NA & NA & NA & NA & NA & NA & NA & NA & NA & NA & NA & NA & 0494900 & INDPLS METRO PD & 097 & 49 & Marion & 36000 & Indianapolis & 2018-01-18 & THURSDAY  & JAN & 2018 & 10:29:00 & AM & 2 & 0 & 0 & 0 & 0 & AVE & NA & NA & Y & NA & NA                        & 39.80534 & -86.08344 & NA & N & N & N & N & N & 01 & Daylight & 01 & Clear & Dry & 01 & ASPHALT & 13 & FOLLOWING TOO CLOSELY         & 01 & Rear End    & 11:35:00 & AM & 11:40:00 & AM & Y & N & NEMERSONAVE   & NA & 12 & None & 1 & 903085099 & 01 & Passenger Car/Station Wagon & 2016 & FORD           & F350   & 1 & IN & INDIANA & 2 & 35 & N & 01 & Personal (Farm, Company) & 05 & Multi-Lane Undivided (Two Way) & N & NA & N & N & 01 & Another Motor Vehicle & 01 & Going Straight & Greenfield & 3 & Indianapolis\\\\\n",
       "\t 903091166002 & 903091166 & 01 & AC & 2 & 05 & Owner Vehicle & NA & NA & NA & NA & NA & NA & NA & NA & NA & NA & NA & NA & NA & NA & NA & NA & NA & NA & NA & 0494900 & INDPLS METRO PD & 097 & 49 & Marion & 36000 & Indianapolis & 2018-01-25 & THURSDAY  & JAN & 2018 & 11:31:00 & AM & 2 & 0 & 0 & 0 & 0 & AVE & NA & NA & Y & 01 & Dept of Natural Resources & 39.70611 & -86.14202 & NA & N & N & N & N & N & 01 & Daylight & 01 & Clear & Dry & 01 & ASPHALT & 14 & UNSAFE BACKING                & 11 & Backing     & 11:31:00 & AM & 11:56:00 & AM & Y & N & MADISONAVE    & NA & 12 & None & 1 & 903091166 & 01 & Passenger Car/Station Wagon & 2012 & Hyundai        & TUCSON & 1 & IN & INDIANA & 2 & NA & N & 01 & Personal (Farm, Company) & 01 & One Lane (One Way)             & S & NA & N & N & 01 & Another Motor Vehicle & 02 & Backing        & Greenfield & 3 & Indianapolis\\\\\n",
       "\t 903091586001 & 903091586 & 01 & AC & 1 & 05 & Owner Vehicle & NA & NA & NA & NA & NA & NA & NA & NA & NA & NA & NA & NA & NA & NA & NA & NA & NA & NA & NA & 0494900 & INDPLS METRO PD & 097 & 49 & Marion & 36000 & Indianapolis & 2018-01-26 & FRIDAY    & JAN & 2018 & 11:02:00 & AM & 2 & 0 & 0 & 0 & 0 & AVE & NA & NA & Y & NA & NA                        & 39.90263 & -86.04528 & NA & N & N & N & N & N & 01 & Daylight & 01 & Clear & Dry & 01 & ASPHALT & 14 & UNSAFE BACKING                & 11 & Backing     & 11:14:00 & AM & 11:20:00 & AM & Y & N & NSHADELANDAVE & NA & 12 & None & 1 & 903091586 & 01 & Passenger Car/Station Wagon & 2005 & PONTIAC        & VIBE   & 1 & IN & INDIANA & 2 & 20 & N & 01 & Personal (Farm, Company) & 09 & Private Drive                  & E & NA & N & N & 01 & Another Motor Vehicle & 02 & Backing        & Greenfield & 3 & Indianapolis\\\\\n",
       "\\end{tabular}\n"
      ],
      "text/markdown": [
       "\n",
       "A tibble: 6 × 107\n",
       "\n",
       "| INDEXING_NUMBER &lt;dbl&gt; | INDIVIDUAL_MR_RECORD &lt;dbl&gt; | UNIT_MR_NUMBER &lt;chr&gt; | STATUSCDE &lt;chr&gt; | PERSONNMB &lt;dbl&gt; | PERSONTYPECDE &lt;chr&gt; | PERSONTYPEDESCR &lt;chr&gt; | GENDERCDE &lt;lgl&gt; | AGE_GRP &lt;lgl&gt; | POSINVEHCDE &lt;lgl&gt; | ⋯ ⋯ | TRAVDIRDESCR &lt;chr&gt; | EMGERENCY_RUN &lt;chr&gt; | FIREIND &lt;chr&gt; | COLLEVENTCDE &lt;chr&gt; | COLLEVENTDESCR &lt;chr&gt; | PRECOLLACTCDE &lt;chr&gt; | PRECOLLACTDESCR &lt;chr&gt; | DISTRICT &lt;chr&gt; | DISTRICT_NUM &lt;dbl&gt; | SUBDISTRICT &lt;chr&gt; |\n",
       "|---|---|---|---|---|---|---|---|---|---|---|---|---|---|---|---|---|---|---|---|---|\n",
       "| 903091099001 | 903091099 | 01 | AC | 1 | 05 | Owner Vehicle | NA | NA | NA | ⋯ | NA | N | N | 01 | Another Motor Vehicle | 02 | Backing        | Greenfield | 3 | Indianapolis |\n",
       "| 903084265001 | 903084265 | 01 | AC | 1 | 05 | Owner Vehicle | NA | NA | NA | ⋯ | NA | N | N | 01 | Another Motor Vehicle | 02 | Backing        | Greenfield | 3 | Indianapolis |\n",
       "| 903085095001 | 903085095 | 01 | AC | 1 | 05 | Owner Vehicle | NA | NA | NA | ⋯ | NA | N | N | 01 | Another Motor Vehicle | 01 | Going Straight | Greenfield | 3 | Indianapolis |\n",
       "| 903085099001 | 903085099 | 01 | AC | 1 | 05 | Owner Vehicle | NA | NA | NA | ⋯ | NA | N | N | 01 | Another Motor Vehicle | 01 | Going Straight | Greenfield | 3 | Indianapolis |\n",
       "| 903091166002 | 903091166 | 01 | AC | 2 | 05 | Owner Vehicle | NA | NA | NA | ⋯ | NA | N | N | 01 | Another Motor Vehicle | 02 | Backing        | Greenfield | 3 | Indianapolis |\n",
       "| 903091586001 | 903091586 | 01 | AC | 1 | 05 | Owner Vehicle | NA | NA | NA | ⋯ | NA | N | N | 01 | Another Motor Vehicle | 02 | Backing        | Greenfield | 3 | Indianapolis |\n",
       "\n"
      ],
      "text/plain": [
       "  INDEXING_NUMBER INDIVIDUAL_MR_RECORD UNIT_MR_NUMBER STATUSCDE PERSONNMB\n",
       "1 903091099001    903091099            01             AC        1        \n",
       "2 903084265001    903084265            01             AC        1        \n",
       "3 903085095001    903085095            01             AC        1        \n",
       "4 903085099001    903085099            01             AC        1        \n",
       "5 903091166002    903091166            01             AC        2        \n",
       "6 903091586001    903091586            01             AC        1        \n",
       "  PERSONTYPECDE PERSONTYPEDESCR GENDERCDE AGE_GRP POSINVEHCDE ⋯ TRAVDIRDESCR\n",
       "1 05            Owner Vehicle   NA        NA      NA          ⋯ NA          \n",
       "2 05            Owner Vehicle   NA        NA      NA          ⋯ NA          \n",
       "3 05            Owner Vehicle   NA        NA      NA          ⋯ NA          \n",
       "4 05            Owner Vehicle   NA        NA      NA          ⋯ NA          \n",
       "5 05            Owner Vehicle   NA        NA      NA          ⋯ NA          \n",
       "6 05            Owner Vehicle   NA        NA      NA          ⋯ NA          \n",
       "  EMGERENCY_RUN FIREIND COLLEVENTCDE COLLEVENTDESCR        PRECOLLACTCDE\n",
       "1 N             N       01           Another Motor Vehicle 02           \n",
       "2 N             N       01           Another Motor Vehicle 02           \n",
       "3 N             N       01           Another Motor Vehicle 01           \n",
       "4 N             N       01           Another Motor Vehicle 01           \n",
       "5 N             N       01           Another Motor Vehicle 02           \n",
       "6 N             N       01           Another Motor Vehicle 02           \n",
       "  PRECOLLACTDESCR DISTRICT   DISTRICT_NUM SUBDISTRICT \n",
       "1 Backing         Greenfield 3            Indianapolis\n",
       "2 Backing         Greenfield 3            Indianapolis\n",
       "3 Going Straight  Greenfield 3            Indianapolis\n",
       "4 Going Straight  Greenfield 3            Indianapolis\n",
       "5 Backing         Greenfield 3            Indianapolis\n",
       "6 Backing         Greenfield 3            Indianapolis"
      ]
     },
     "metadata": {},
     "output_type": "display_data"
    }
   ],
   "source": [
    "library(readr)\n",
    "rawdf = read_csv(\"aries_crash_data_2018.csv\");\n",
    "head(rawdf)"
   ]
  },
  {
   "cell_type": "code",
   "execution_count": 111,
   "metadata": {},
   "outputs": [
    {
     "data": {
      "text/html": [
       "<table>\n",
       "<caption>A tibble: 6 × 2</caption>\n",
       "<thead>\n",
       "\t<tr><th scope=col>county</th><th scope=col>crashCount</th></tr>\n",
       "\t<tr><th scope=col>&lt;chr&gt;</th><th scope=col>&lt;int&gt;</th></tr>\n",
       "</thead>\n",
       "<tbody>\n",
       "\t<tr><td>Adams      </td><td>  7</td></tr>\n",
       "\t<tr><td>Allen      </td><td>199</td></tr>\n",
       "\t<tr><td>Bartholomew</td><td> 49</td></tr>\n",
       "\t<tr><td>Benton     </td><td>  1</td></tr>\n",
       "\t<tr><td>Blackford  </td><td>  2</td></tr>\n",
       "\t<tr><td>Boone      </td><td> 13</td></tr>\n",
       "</tbody>\n",
       "</table>\n"
      ],
      "text/latex": [
       "A tibble: 6 × 2\n",
       "\\begin{tabular}{r|ll}\n",
       " county & crashCount\\\\\n",
       " <chr> & <int>\\\\\n",
       "\\hline\n",
       "\t Adams       &   7\\\\\n",
       "\t Allen       & 199\\\\\n",
       "\t Bartholomew &  49\\\\\n",
       "\t Benton      &   1\\\\\n",
       "\t Blackford   &   2\\\\\n",
       "\t Boone       &  13\\\\\n",
       "\\end{tabular}\n"
      ],
      "text/markdown": [
       "\n",
       "A tibble: 6 × 2\n",
       "\n",
       "| county &lt;chr&gt; | crashCount &lt;int&gt; |\n",
       "|---|---|\n",
       "| Adams       |   7 |\n",
       "| Allen       | 199 |\n",
       "| Bartholomew |  49 |\n",
       "| Benton      |   1 |\n",
       "| Blackford   |   2 |\n",
       "| Boone       |  13 |\n",
       "\n"
      ],
      "text/plain": [
       "  county      crashCount\n",
       "1 Adams         7       \n",
       "2 Allen       199       \n",
       "3 Bartholomew  49       \n",
       "4 Benton        1       \n",
       "5 Blackford     2       \n",
       "6 Boone        13       "
      ]
     },
     "metadata": {},
     "output_type": "display_data"
    }
   ],
   "source": [
    "library(dplyr)\n",
    "df <- rawdf %>%\n",
    "    filter(PERSONTYPEDESCR %in% c(\"Pedal Cyclist\",\"Pedestrian\")) %>%\n",
    "    group_by(COUNTYDESCR) %>%\n",
    "    summarize(crashCount = n()) %>%\n",
    "    rename(county = COUNTYDESCR)\n",
    "head(df)"
   ]
  },
  {
   "cell_type": "code",
   "execution_count": 110,
   "metadata": {},
   "outputs": [
    {
     "name": "stderr",
     "output_type": "stream",
     "text": [
      "New names:\n",
      "* `` -> ...4\n",
      "* `` -> ...5\n",
      "* `` -> ...6\n",
      "* `` -> ...7\n",
      "* `` -> ...8\n",
      "* … and 8 more problems\n"
     ]
    },
    {
     "data": {
      "text/html": [
       "<table>\n",
       "<caption>A tibble: 6 × 2</caption>\n",
       "<thead>\n",
       "\t<tr><th scope=col>county</th><th scope=col>pop</th></tr>\n",
       "\t<tr><th scope=col>&lt;chr&gt;</th><th scope=col>&lt;dbl&gt;</th></tr>\n",
       "</thead>\n",
       "<tbody>\n",
       "\t<tr><td>Adams      </td><td> 35636</td></tr>\n",
       "\t<tr><td>Allen      </td><td>375351</td></tr>\n",
       "\t<tr><td>Bartholomew</td><td> 82753</td></tr>\n",
       "\t<tr><td>Benton     </td><td>  8653</td></tr>\n",
       "\t<tr><td>Blackford  </td><td> 11930</td></tr>\n",
       "\t<tr><td>Boone      </td><td> 66999</td></tr>\n",
       "</tbody>\n",
       "</table>\n"
      ],
      "text/latex": [
       "A tibble: 6 × 2\n",
       "\\begin{tabular}{r|ll}\n",
       " county & pop\\\\\n",
       " <chr> & <dbl>\\\\\n",
       "\\hline\n",
       "\t Adams       &  35636\\\\\n",
       "\t Allen       & 375351\\\\\n",
       "\t Bartholomew &  82753\\\\\n",
       "\t Benton      &   8653\\\\\n",
       "\t Blackford   &  11930\\\\\n",
       "\t Boone       &  66999\\\\\n",
       "\\end{tabular}\n"
      ],
      "text/markdown": [
       "\n",
       "A tibble: 6 × 2\n",
       "\n",
       "| county &lt;chr&gt; | pop &lt;dbl&gt; |\n",
       "|---|---|\n",
       "| Adams       |  35636 |\n",
       "| Allen       | 375351 |\n",
       "| Bartholomew |  82753 |\n",
       "| Benton      |   8653 |\n",
       "| Blackford   |  11930 |\n",
       "| Boone       |  66999 |\n",
       "\n"
      ],
      "text/plain": [
       "  county      pop   \n",
       "1 Adams        35636\n",
       "2 Allen       375351\n",
       "3 Bartholomew  82753\n",
       "4 Benton        8653\n",
       "5 Blackford    11930\n",
       "6 Boone        66999"
      ]
     },
     "metadata": {},
     "output_type": "display_data"
    }
   ],
   "source": [
    "library(readxl)\n",
    "library(stringr)\n",
    "\n",
    "pops <- read_excel(\"2018_cntyest.xlsx\") %>%\n",
    "    select(1,3) %>%\n",
    "    slice(-(1:2)) %>%\n",
    "    rename(county=1,pop=2)\n",
    "\n",
    "pops$county <- word(countyPop_df$county,1)\n",
    "\n",
    "head(pops)"
   ]
  },
  {
   "cell_type": "code",
   "execution_count": 113,
   "metadata": {},
   "outputs": [
    {
     "name": "stderr",
     "output_type": "stream",
     "text": [
      "Joining, by = c(\"county\", \"pop\")\n"
     ]
    },
    {
     "data": {
      "text/html": [
       "<table>\n",
       "<caption>A tibble: 6 × 4</caption>\n",
       "<thead>\n",
       "\t<tr><th scope=col>county</th><th scope=col>crashCount</th><th scope=col>pop</th><th scope=col>crashesPerCap</th></tr>\n",
       "\t<tr><th scope=col>&lt;chr&gt;</th><th scope=col>&lt;int&gt;</th><th scope=col>&lt;dbl&gt;</th><th scope=col>&lt;dbl&gt;</th></tr>\n",
       "</thead>\n",
       "<tbody>\n",
       "\t<tr><td>Adams      </td><td>  7</td><td> 35636</td><td>19.64306</td></tr>\n",
       "\t<tr><td>Allen      </td><td>199</td><td>375351</td><td>53.01704</td></tr>\n",
       "\t<tr><td>Bartholomew</td><td> 49</td><td> 82753</td><td>59.21235</td></tr>\n",
       "\t<tr><td>Benton     </td><td>  1</td><td>  8653</td><td>11.55669</td></tr>\n",
       "\t<tr><td>Blackford  </td><td>  2</td><td> 11930</td><td>16.76446</td></tr>\n",
       "\t<tr><td>Boone      </td><td> 13</td><td> 66999</td><td>19.40327</td></tr>\n",
       "</tbody>\n",
       "</table>\n"
      ],
      "text/latex": [
       "A tibble: 6 × 4\n",
       "\\begin{tabular}{r|llll}\n",
       " county & crashCount & pop & crashesPerCap\\\\\n",
       " <chr> & <int> & <dbl> & <dbl>\\\\\n",
       "\\hline\n",
       "\t Adams       &   7 &  35636 & 19.64306\\\\\n",
       "\t Allen       & 199 & 375351 & 53.01704\\\\\n",
       "\t Bartholomew &  49 &  82753 & 59.21235\\\\\n",
       "\t Benton      &   1 &   8653 & 11.55669\\\\\n",
       "\t Blackford   &   2 &  11930 & 16.76446\\\\\n",
       "\t Boone       &  13 &  66999 & 19.40327\\\\\n",
       "\\end{tabular}\n"
      ],
      "text/markdown": [
       "\n",
       "A tibble: 6 × 4\n",
       "\n",
       "| county &lt;chr&gt; | crashCount &lt;int&gt; | pop &lt;dbl&gt; | crashesPerCap &lt;dbl&gt; |\n",
       "|---|---|---|---|\n",
       "| Adams       |   7 |  35636 | 19.64306 |\n",
       "| Allen       | 199 | 375351 | 53.01704 |\n",
       "| Bartholomew |  49 |  82753 | 59.21235 |\n",
       "| Benton      |   1 |   8653 | 11.55669 |\n",
       "| Blackford   |   2 |  11930 | 16.76446 |\n",
       "| Boone       |  13 |  66999 | 19.40327 |\n",
       "\n"
      ],
      "text/plain": [
       "  county      crashCount pop    crashesPerCap\n",
       "1 Adams         7         35636 19.64306     \n",
       "2 Allen       199        375351 53.01704     \n",
       "3 Bartholomew  49         82753 59.21235     \n",
       "4 Benton        1          8653 11.55669     \n",
       "5 Blackford     2         11930 16.76446     \n",
       "6 Boone        13         66999 19.40327     "
      ]
     },
     "metadata": {},
     "output_type": "display_data"
    }
   ],
   "source": [
    "df <- left_join(df,countyPop_df) %>%\n",
    "    mutate(crashesPerCap = crashCount / pop * 100000)\n",
    "\n",
    "head(df)"
   ]
  },
  {
   "cell_type": "code",
   "execution_count": 79,
   "metadata": {},
   "outputs": [
    {
     "name": "stderr",
     "output_type": "stream",
     "text": [
      "Warning message:\n",
      "“Removed 2 rows containing missing values (position_stack).”"
     ]
    },
    {
     "data": {
      "image/png": "[encoded data removed]",
      "text/plain": [
       "plot without title"
      ]
     },
     "metadata": {},
     "output_type": "display_data"
    }
   ],
   "source": [
    "library(ggplot2)\n",
    "ggplot(df, aes(x = county, y = crashesPerCap)) + geom_col()"
   ]
  },
  {
   "cell_type": "code",
   "execution_count": 114,
   "metadata": {},
   "outputs": [
    {
     "name": "stderr",
     "output_type": "stream",
     "text": [
      "New names:\n",
      "* `` -> ...1\n",
      "* `` -> ...2\n",
      "* `` -> ...3\n",
      "* `` -> ...5\n",
      "* `` -> ...7\n"
     ]
    },
    {
     "data": {
      "text/html": [
       "<table>\n",
       "<caption>A tibble: 6 × 3</caption>\n",
       "<thead>\n",
       "\t<tr><th scope=col>county</th><th scope=col>outcomeRank</th><th scope=col>factorRank</th></tr>\n",
       "\t<tr><th scope=col>&lt;chr&gt;</th><th scope=col>&lt;chr&gt;</th><th scope=col>&lt;chr&gt;</th></tr>\n",
       "</thead>\n",
       "<tbody>\n",
       "\t<tr><td>Adams      </td><td>17</td><td>47</td></tr>\n",
       "\t<tr><td>Allen      </td><td>47</td><td>37</td></tr>\n",
       "\t<tr><td>Bartholomew</td><td>42</td><td>11</td></tr>\n",
       "\t<tr><td>Benton     </td><td>32</td><td>17</td></tr>\n",
       "\t<tr><td>Blackford  </td><td>86</td><td>73</td></tr>\n",
       "\t<tr><td>Boone      </td><td>4 </td><td>2 </td></tr>\n",
       "</tbody>\n",
       "</table>\n"
      ],
      "text/latex": [
       "A tibble: 6 × 3\n",
       "\\begin{tabular}{r|lll}\n",
       " county & outcomeRank & factorRank\\\\\n",
       " <chr> & <chr> & <chr>\\\\\n",
       "\\hline\n",
       "\t Adams       & 17 & 47\\\\\n",
       "\t Allen       & 47 & 37\\\\\n",
       "\t Bartholomew & 42 & 11\\\\\n",
       "\t Benton      & 32 & 17\\\\\n",
       "\t Blackford   & 86 & 73\\\\\n",
       "\t Boone       & 4  & 2 \\\\\n",
       "\\end{tabular}\n"
      ],
      "text/markdown": [
       "\n",
       "A tibble: 6 × 3\n",
       "\n",
       "| county &lt;chr&gt; | outcomeRank &lt;chr&gt; | factorRank &lt;chr&gt; |\n",
       "|---|---|---|\n",
       "| Adams       | 17 | 47 |\n",
       "| Allen       | 47 | 37 |\n",
       "| Bartholomew | 42 | 11 |\n",
       "| Benton      | 32 | 17 |\n",
       "| Blackford   | 86 | 73 |\n",
       "| Boone       | 4  | 2  |\n",
       "\n"
      ],
      "text/plain": [
       "  county      outcomeRank factorRank\n",
       "1 Adams       17          47        \n",
       "2 Allen       47          37        \n",
       "3 Bartholomew 42          11        \n",
       "4 Benton      32          17        \n",
       "5 Blackford   86          73        \n",
       "6 Boone       4           2         "
      ]
     },
     "metadata": {},
     "output_type": "display_data"
    }
   ],
   "source": [
    "healthRanks <- read_excel(\"2018RankingsIN.xls\",sheet=2) %>%\n",
    "    select(3,5,7) %>%\n",
    "    slice(-(1:2)) %>%\n",
    "    rename(county=...3,outcomeRank=...5,factorRank=...7)\n",
    "    \n",
    "head(healthRanks)"
   ]
  },
  {
   "cell_type": "code",
   "execution_count": 115,
   "metadata": {},
   "outputs": [
    {
     "name": "stderr",
     "output_type": "stream",
     "text": [
      "Joining, by = \"county\"\n"
     ]
    },
    {
     "data": {
      "text/html": [
       "<table>\n",
       "<caption>A tibble: 6 × 6</caption>\n",
       "<thead>\n",
       "\t<tr><th scope=col>county</th><th scope=col>crashCount</th><th scope=col>pop</th><th scope=col>crashesPerCap</th><th scope=col>outcomeRank</th><th scope=col>factorRank</th></tr>\n",
       "\t<tr><th scope=col>&lt;chr&gt;</th><th scope=col>&lt;int&gt;</th><th scope=col>&lt;dbl&gt;</th><th scope=col>&lt;dbl&gt;</th><th scope=col>&lt;chr&gt;</th><th scope=col>&lt;chr&gt;</th></tr>\n",
       "</thead>\n",
       "<tbody>\n",
       "\t<tr><td>Adams      </td><td>  7</td><td> 35636</td><td>19.64306</td><td>17</td><td>47</td></tr>\n",
       "\t<tr><td>Allen      </td><td>199</td><td>375351</td><td>53.01704</td><td>47</td><td>37</td></tr>\n",
       "\t<tr><td>Bartholomew</td><td> 49</td><td> 82753</td><td>59.21235</td><td>42</td><td>11</td></tr>\n",
       "\t<tr><td>Benton     </td><td>  1</td><td>  8653</td><td>11.55669</td><td>32</td><td>17</td></tr>\n",
       "\t<tr><td>Blackford  </td><td>  2</td><td> 11930</td><td>16.76446</td><td>86</td><td>73</td></tr>\n",
       "\t<tr><td>Boone      </td><td> 13</td><td> 66999</td><td>19.40327</td><td>4 </td><td>2 </td></tr>\n",
       "</tbody>\n",
       "</table>\n"
      ],
      "text/latex": [
       "A tibble: 6 × 6\n",
       "\\begin{tabular}{r|llllll}\n",
       " county & crashCount & pop & crashesPerCap & outcomeRank & factorRank\\\\\n",
       " <chr> & <int> & <dbl> & <dbl> & <chr> & <chr>\\\\\n",
       "\\hline\n",
       "\t Adams       &   7 &  35636 & 19.64306 & 17 & 47\\\\\n",
       "\t Allen       & 199 & 375351 & 53.01704 & 47 & 37\\\\\n",
       "\t Bartholomew &  49 &  82753 & 59.21235 & 42 & 11\\\\\n",
       "\t Benton      &   1 &   8653 & 11.55669 & 32 & 17\\\\\n",
       "\t Blackford   &   2 &  11930 & 16.76446 & 86 & 73\\\\\n",
       "\t Boone       &  13 &  66999 & 19.40327 & 4  & 2 \\\\\n",
       "\\end{tabular}\n"
      ],
      "text/markdown": [
       "\n",
       "A tibble: 6 × 6\n",
       "\n",
       "| county &lt;chr&gt; | crashCount &lt;int&gt; | pop &lt;dbl&gt; | crashesPerCap &lt;dbl&gt; | outcomeRank &lt;chr&gt; | factorRank &lt;chr&gt; |\n",
       "|---|---|---|---|---|---|\n",
       "| Adams       |   7 |  35636 | 19.64306 | 17 | 47 |\n",
       "| Allen       | 199 | 375351 | 53.01704 | 47 | 37 |\n",
       "| Bartholomew |  49 |  82753 | 59.21235 | 42 | 11 |\n",
       "| Benton      |   1 |   8653 | 11.55669 | 32 | 17 |\n",
       "| Blackford   |   2 |  11930 | 16.76446 | 86 | 73 |\n",
       "| Boone       |  13 |  66999 | 19.40327 | 4  | 2  |\n",
       "\n"
      ],
      "text/plain": [
       "  county      crashCount pop    crashesPerCap outcomeRank factorRank\n",
       "1 Adams         7         35636 19.64306      17          47        \n",
       "2 Allen       199        375351 53.01704      47          37        \n",
       "3 Bartholomew  49         82753 59.21235      42          11        \n",
       "4 Benton        1          8653 11.55669      32          17        \n",
       "5 Blackford     2         11930 16.76446      86          73        \n",
       "6 Boone        13         66999 19.40327      4           2         "
      ]
     },
     "metadata": {},
     "output_type": "display_data"
    }
   ],
   "source": [
    "df <- left_join(df, healthRanks)\n",
    "\n",
    "head(df)"
   ]
  },
  {
   "cell_type": "code",
   "execution_count": 98,
   "metadata": {
    "collapsed": true,
    "jupyter": {
     "outputs_hidden": true
    }
   },
   "outputs": [
    {
     "name": "stderr",
     "output_type": "stream",
     "text": [
      "Warning message:\n",
      "“Removed 2 rows containing missing values (geom_point).”"
     ]
    },
    {
     "data": {
      "image/png": "[encoded data removed]",
      "text/plain": [
       "plot without title"
      ]
     },
     "metadata": {},
     "output_type": "display_data"
    }
   ],
   "source": [
    "ggplot(df, aes(x=factorRank,y=crashesPerCap)) + geom_point()"
   ]
  }
 ],
 "metadata": {
  "kernelspec": {
   "display_name": "R",
   "language": "R",
   "name": "ir"
  },
  "language_info": {
   "codemirror_mode": "r",
   "file_extension": ".r",
   "mimetype": "text/x-r-source",
   "name": "R",
   "pygments_lexer": "r",
   "version": "3.6.1"
  }
 },
 "nbformat": 4,
 "nbformat_minor": 4
}
