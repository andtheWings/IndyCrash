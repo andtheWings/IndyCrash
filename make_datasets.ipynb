{
 "cells": [
  {
   "cell_type": "markdown",
   "metadata": {},
   "source": [
    "# Consolidating the ARIES datasets:\n",
    "\n",
    "## Background\n",
    "\n",
    "Excerpt from the IndyCrash [project wiki](https://osf.io/hr7kz/wiki/home/):\n",
    "\n",
    ">Hi, my name's Dan, I'm a resident pediatrician in Indianapolis. Several years ago, my good friend Mike was bicycling through the streets of Philadelphia when a car T-boned him after it ran a red light. Among other things, Mike shattered the tip of his right elbow and his head struck straight into the windshield. He likely would not have survived if he had not been wearing a helmet. He spent months recovering from complex orthopedic surgery with physical rehab.\n",
    ">\n",
    ">I love bicycling/walking (aka active transportation). It’s a great way to build exercise into the daily routine while reducing your carbon footprint. But Mike's experience underscores why many people don't engage in active transportation--they don't feel safe on our streets. I want that to change.\n",
    ">\n",
    ">This project's goal is to rebuild the environment of streets in Indy. We will engage community members around the city to design interventions for the highest risk regions to pedestrians/bicyclists. We will then use randomized controlled trials to test what helps protect people with the best efficacy and dollar efficiency.\n",
    "\n",
    "## Intro\n",
    "\n",
    "This preliminary notebook will demonstrate a method for building the datasets to be used for this project. The data is derived from files made publically available from the ARIES database maintained by [Indiana State Police](https://hub.mph.in.gov/dataset/aries-crash-data-2007-2017):\n",
    "\n",
    ">The Automated Reporting Information Exchange System (ARIES) is the State of Indiana’s crash repository. Crash data is generated through first responder crash reports and collected within ARIES. Data is available for 2007 to [2019]. Examples of this data include crash details such as, vehicle information, road conditions, crash severity, weather conditions, location, date, and time.\n",
    "\n",
    "Sidenote: If you are familiar with the process of data ingestion, you may be wondering why I am not using the API on the ARIES website to run more targetted queries, rather than downloading each individual file. Unfortunately, the API only reliably works for half of the datasets without returning an error, so I decided it was more important to have complete data rather than a more efficient process.\n",
    "\n",
    "## Part 1: Load and combine the data\n",
    "\n",
    "Let's start by prepping the needed R libraries."
   ]
  },
  {
   "cell_type": "code",
   "execution_count": null,
   "metadata": {},
   "outputs": [],
   "source": [
    "library(readr)\n",
    "library(dplyr)\n",
    "library(feather)\n",
    "library(tibble)"
   ]
  },
  {
   "cell_type": "markdown",
   "metadata": {},
   "source": [
    "I started by looping over every dataset, collecting the variables I want, and then adding them to a master table."
   ]
  },
  {
   "cell_type": "code",
   "execution_count": 1,
   "metadata": {},
   "outputs": [
    {
     "name": "stderr",
     "output_type": "stream",
     "text": [
      "\n",
      "Attaching package: ‘dplyr’\n",
      "\n",
      "The following objects are masked from ‘package:stats’:\n",
      "\n",
      "    filter, lag\n",
      "\n",
      "The following objects are masked from ‘package:base’:\n",
      "\n",
      "    intersect, setdiff, setequal, union\n",
      "\n",
      "Warning message:\n",
      "“7712 parsing failures.\n",
      "  row              col expected actual                                   file\n",
      "41379 SURFACETYPECDE   a double      + 'aries_data/aries_crash_data_2007.csv'\n",
      "62021 WEATHERCDE       a double      + 'aries_data/aries_crash_data_2007.csv'\n",
      "62021 PRIMARYFACTORCDE a double      + 'aries_data/aries_crash_data_2007.csv'\n",
      "62021 UNITTYPECDE      a double      + 'aries_data/aries_crash_data_2007.csv'\n",
      "71273 UNITTYPECDE      a double      + 'aries_data/aries_crash_data_2007.csv'\n",
      "..... ................ ........ ...... ......................................\n",
      "See problems(...) for more details.\n",
      "”Warning message:\n",
      "“472 parsing failures.\n",
      "  row              col           expected      actual                                   file\n",
      "21431 VEHMODELTXT      delimiter or quote I           'aries_data/aries_crash_data_2008.csv'\n",
      "21431 OCCUPSNMB        a double           INDIANA     'aries_data/aries_crash_data_2008.csv'\n",
      "21431 ROADTYPECDE      a double           S           'aries_data/aries_crash_data_2008.csv'\n",
      "21431 NA               107 columns        105 columns 'aries_data/aries_crash_data_2008.csv'\n",
      "79599 PRIMARYFACTORCDE a double           +           'aries_data/aries_crash_data_2008.csv'\n",
      "..... ................ .................. ........... ......................................\n",
      "See problems(...) for more details.\n",
      "”Warning message:\n",
      "“365 parsing failures.\n",
      "  row         col           expected                   actual                                   file\n",
      "74272 VEHMODELTXT delimiter or quote S                        'aries_data/aries_crash_data_2009.csv'\n",
      "74272 VEHMODELTXT delimiter or quote 1                        'aries_data/aries_crash_data_2009.csv'\n",
      "74272 OCCUPSNMB   a double           IN                       'aries_data/aries_crash_data_2009.csv'\n",
      "74272 VEHUSECDE   a double           Personal (Farm, Company) 'aries_data/aries_crash_data_2009.csv'\n",
      "74272 ROADTYPECDE a double           Two Lanes (One Way)      'aries_data/aries_crash_data_2009.csv'\n",
      "..... ........... .................. ........................ ......................................\n",
      "See problems(...) for more details.\n",
      "”Warning message:\n",
      "“252 parsing failures.\n",
      "  row         col           expected                   actual                                   file\n",
      "63198 VEHMODELTXT delimiter or quote A                        'aries_data/aries_crash_data_2010.csv'\n",
      "63198 VEHMODELTXT delimiter or quote 3                        'aries_data/aries_crash_data_2010.csv'\n",
      "63198 OCCUPSNMB   a double           IN                       'aries_data/aries_crash_data_2010.csv'\n",
      "63198 VEHUSECDE   a double           Personal (Farm, Company) 'aries_data/aries_crash_data_2010.csv'\n",
      "63198 ROADTYPECDE a double           Two Lanes (Two Way)      'aries_data/aries_crash_data_2010.csv'\n",
      "..... ........... .................. ........................ ......................................\n",
      "See problems(...) for more details.\n",
      "”Warning message:\n",
      "“113 parsing failures.\n",
      "  row              col expected actual                                   file\n",
      "92818 PRIMARYFACTORCDE a double      + 'aries_data/aries_crash_data_2011.csv'\n",
      "92818 VEHUSECDE        a double      + 'aries_data/aries_crash_data_2011.csv'\n",
      "92821 PRIMARYFACTORCDE a double      + 'aries_data/aries_crash_data_2011.csv'\n",
      "92821 VEHUSECDE        a double      + 'aries_data/aries_crash_data_2011.csv'\n",
      "92824 PRECOLLACTCDE    a double      + 'aries_data/aries_crash_data_2011.csv'\n",
      "..... ................ ........ ...... ......................................\n",
      "See problems(...) for more details.\n",
      "”Warning message:\n",
      "“21 parsing failures.\n",
      "   row           col           expected actual                                   file\n",
      " 86025 VEHMAKETXT    delimiter or quote        'aries_data/aries_crash_data_2012.csv'\n",
      " 94553 INJLOCCDE     a double                + 'aries_data/aries_crash_data_2012.csv'\n",
      " 94583 PRECOLLACTCDE a double                + 'aries_data/aries_crash_data_2012.csv'\n",
      "118270 INJNATURECDE  a double                + 'aries_data/aries_crash_data_2012.csv'\n",
      "149921 INJLOCCDE     a double                + 'aries_data/aries_crash_data_2012.csv'\n",
      "...... ............. .................. ...... ......................................\n",
      "See problems(...) for more details.\n",
      "”Warning message:\n",
      "“9 parsing failures.\n",
      "   row         col           expected                   actual                                   file\n",
      "263385 VEHMODELTXT delimiter or quote T                        'aries_data/aries_crash_data_2014.csv'\n",
      "263385 VEHMODELTXT delimiter or quote 0                        'aries_data/aries_crash_data_2014.csv'\n",
      "263385 OCCUPSNMB   a double           IN                       'aries_data/aries_crash_data_2014.csv'\n",
      "263385 VEHUSECDE   a double           Personal (Farm, Company) 'aries_data/aries_crash_data_2014.csv'\n",
      "263385 ROADTYPECDE a double           One Lane (One Way)       'aries_data/aries_crash_data_2014.csv'\n",
      "...... ........... .................. ........................ ......................................\n",
      "See problems(...) for more details.\n",
      "”Warning message:\n",
      "“4 parsing failures.\n",
      "   row              col           expected actual                                   file\n",
      "332998 UNIQUELOCATIONID delimiter or quote      T 'aries_data/aries_crash_data_2015.csv'\n",
      "332998 UNIQUELOCATIONID delimiter or quote      J 'aries_data/aries_crash_data_2015.csv'\n",
      "545350 UNIQUELOCATIONID delimiter or quote      T 'aries_data/aries_crash_data_2015.csv'\n",
      "545350 UNIQUELOCATIONID delimiter or quote      J 'aries_data/aries_crash_data_2015.csv'\n",
      "”"
     ]
    },
    {
     "name": "stdout",
     "output_type": "stream",
     "text": [
      "Classes ‘tbl_df’, ‘tbl’ and 'data.frame':\t7244543 obs. of  22 variables:\n",
      " $ INDIVIDUAL_MR_RECORD: num  9.01e+08 9.01e+08 9.01e+08 9.01e+08 9.01e+08 ...\n",
      " $ LATDECIMALNMB       : num  0 40.7 39.2 40.2 41.6 ...\n",
      " $ LONGDECIMALNMB      : num  0 -85.4 -85.9 -85.4 -86.2 ...\n",
      " $ COUNTYDESCR         : chr  \"Bartholomew\" \"Huntington\" \"Bartholomew\" \"Delaware\" ...\n",
      " $ UNIQUELOCATIONID    : chr  \"COLUMBUSSHOPPINGCENTER\" \"HUNTINGTONAVE\" \"E25THST\" \"KILGOREAVE\" ...\n",
      " $ COLLISION_YEAR      : num  2007 2007 2007 2007 2007 ...\n",
      " $ COLLDTE             : chr  \"2007.06.22\" \"2007.11.13\" \"2007.06.09\" \"2007.02.27\" ...\n",
      " $ SPEEDLIMITTXT       : chr  \"15\" \"0\" \"15\" \"20\" ...\n",
      " $ TRAFFICCNTRLDESCR   : chr  \"None\" \"None\" \"None\" \"None\" ...\n",
      " $ TRAFFICCNTLOPIND    : chr  NA NA NA NA ...\n",
      " $ RUMBLESTRIPIND      : chr  \"N\" \"N\" \"N\" \"N\" ...\n",
      " $ SURFACETYPEDESCR    : chr  \"ASPHALT\" \"ASPHALT\" \"ASPHALT\" \"ASPHALT\" ...\n",
      " $ ROADTYPEDESCR       : chr  \"Private Drive\" \"Private Drive\" \"Private Drive\" \"Private Drive\" ...\n",
      " $ SCHOOLZONEIND       : chr  \"N\" \"N\" \"N\" \"N\" ...\n",
      " $ MANNERCOLLDESCR     : chr  \"Opposite Direction Sideswipe\" \"Other (Explain in Narrative)\" \"Rear End\" \"Backing\" ...\n",
      " $ COLLEVENTDESCR      : chr  \"Another Motor Vehicle\" \"Another Motor Vehicle\" \"Another Motor Vehicle\" \"Another Motor Vehicle\" ...\n",
      " $ INJUREDNMB          : num  0 0 0 0 0 0 0 0 0 0 ...\n",
      " $ DEADNMB             : num  0 0 0 0 0 0 0 0 0 0 ...\n",
      " $ UNITNMB             : num  1 1 1 1 1 1 1 1 1 1 ...\n",
      " $ OCCUPSNMB           : num  1 1 1 1 1 1 1 1 1 1 ...\n",
      " $ PERSONNMB           : num  1 1 NA NA 1 NA 1 1 NA NA ...\n",
      " $ PERSONTYPEDESCR     : chr  \"Owner Vehicle\" \"Owner Vehicle\" NA NA ...\n"
     ]
    }
   ],
   "source": [
    "#Use a for loop to consolidate the ARIES datasets from 2007-Present.\n",
    "\n",
    "tbl <- tibble()\n",
    "\n",
    "for (year in 2007:2019) {\n",
    "    dataset <- paste0(\"aries_data/aries_crash_data_\",year,\".csv\")\n",
    "    locTbl <- read_csv(dataset,\n",
    "                       #col_types argument is manually setting the types for each variable. This is because the sheer volume of missing data made it hard for the parser infer types itself.\n",
    "                       col_types=\"dddcddcccdcdcdccdcdcdcdcccccddcdccccdtcdddddccccdcddccccccdcdccdcdcdcccccccccccdddccccdcccccdcdcccccdcdccdc\") %>% \n",
    "                #Variables of interest to this project included identifiers, injury characterization, geographic position, time, and characterization of the physical environment\n",
    "                #See ARIES data dictionary for all the variables. https://hub.mph.in.gov/dataset/aries-crash-data-2007-2017/resource/f61a5dcb-5ca3-485a-9ecf-cd3d8740dc9b?inner_span=True\n",
    "                select(INDIVIDUAL_MR_RECORD,\n",
    "                            LATDECIMALNMB,\n",
    "                            LONGDECIMALNMB,\n",
    "                            COUNTYDESCR,\n",
    "                            UNIQUELOCATIONID,\n",
    "                            COLLISION_YEAR,\n",
    "                            COLLDTE,\n",
    "                            SPEEDLIMITTXT,\n",
    "                            TRAFFICCNTRLDESCR,\n",
    "                            TRAFFICCNTLOPIND,\n",
    "                            RUMBLESTRIPIND,\n",
    "                            SURFACETYPEDESCR,\n",
    "                            ROADTYPEDESCR,\n",
    "                            SCHOOLZONEIND,\n",
    "                            MANNERCOLLDESCR,\n",
    "                            COLLEVENTDESCR,\n",
    "                            INJUREDNMB,\n",
    "                            DEADNMB, \n",
    "                            UNITNMB,\n",
    "                            OCCUPSNMB,\n",
    "                            PERSONNMB,             \n",
    "                            PERSONTYPEDESCR)\n",
    "    tbl <- bind_rows(tbl,locTbl)\n",
    "}\n",
    "\n",
    "str(tbl)"
   ]
  },
  {
   "cell_type": "markdown",
   "metadata": {},
   "source": [
    "We end up with 7 million observations of people involved in crashes around the whole state of Indiana from 2007-2019. At regular stages, I will be storing these intermediate datasets in \"feather\" files. Feather files are nice because they were designed to be compatible with all the major datascience languages such as R, Python, and Julia."
   ]
  },
  {
   "cell_type": "code",
   "execution_count": 2,
   "metadata": {},
   "outputs": [],
   "source": [
    "# Fast, language-agnostic format for tabular data storage on disk\n",
    "write_feather(tbl, \"raw_pasted_ARIES.feather\")"
   ]
  },
  {
   "cell_type": "markdown",
   "metadata": {},
   "source": [
    "## Part 2: Quality measures\n",
    "\n",
    "Next we'll make some changes that should apply to all analyses moving forward for quality purposes."
   ]
  },
  {
   "cell_type": "code",
   "execution_count": 4,
   "metadata": {},
   "outputs": [
    {
     "name": "stdout",
     "output_type": "stream",
     "text": [
      "Classes ‘tbl_df’, ‘tbl’ and 'data.frame':\t6431818 obs. of  22 variables:\n",
      " $ INDIVIDUAL_MR_RECORD: num  9.01e+08 9.01e+08 9.01e+08 9.01e+08 9.01e+08 ...\n",
      " $ LATDECIMALNMB       : num  40.7 39.2 40.2 41.6 40 ...\n",
      " $ LONGDECIMALNMB      : num  -85.4 -85.9 -85.4 -86.2 -85.9 ...\n",
      " $ COUNTYDESCR         : chr  \"Huntington\" \"Bartholomew\" \"Delaware\" \"St Joseph\" ...\n",
      " $ UNIQUELOCATIONID    : chr  \"HUNTINGTONAVE\" \"E25THST\" \"KILGOREAVE\" \"WIRELANDRD\" ...\n",
      " $ COLLISION_YEAR      : num  2007 2007 2007 2007 2007 ...\n",
      " $ COLLDTE             : chr  \"2007.11.13\" \"2007.06.09\" \"2007.02.27\" \"2007.12.30\" ...\n",
      " $ SPEEDLIMITTXT       : chr  \"0\" \"15\" \"20\" \"10\" ...\n",
      " $ TRAFFICCNTRLDESCR   : chr  \"None\" \"None\" \"None\" \"None\" ...\n",
      " $ TRAFFICCNTLOPIND    : chr  NA NA NA NA ...\n",
      " $ RUMBLESTRIPIND      : chr  \"N\" \"N\" \"N\" \"N\" ...\n",
      " $ SURFACETYPEDESCR    : chr  \"ASPHALT\" \"ASPHALT\" \"ASPHALT\" \"ASPHALT\" ...\n",
      " $ ROADTYPEDESCR       : chr  \"Private Drive\" \"Private Drive\" \"Private Drive\" \"Private Drive\" ...\n",
      " $ SCHOOLZONEIND       : chr  \"N\" \"N\" \"N\" \"N\" ...\n",
      " $ MANNERCOLLDESCR     : chr  \"Other (Explain in Narrative)\" \"Rear End\" \"Backing\" \"Left Turn\" ...\n",
      " $ COLLEVENTDESCR      : chr  \"Another Motor Vehicle\" \"Another Motor Vehicle\" \"Another Motor Vehicle\" \"Another Motor Vehicle\" ...\n",
      " $ INJUREDNMB          : num  0 0 0 0 0 0 0 0 0 0 ...\n",
      " $ DEADNMB             : num  0 0 0 0 0 0 0 0 0 0 ...\n",
      " $ UNITNMB             : num  1 1 1 1 1 1 1 1 1 1 ...\n",
      " $ OCCUPSNMB           : num  1 1 1 1 1 1 1 1 1 1 ...\n",
      " $ PERSONNMB           : num  1 NA NA 1 NA 1 1 NA NA 1 ...\n",
      " $ PERSONTYPEDESCR     : chr  \"Owner Vehicle\" NA NA \"Owner Vehicle\" ...\n"
     ]
    }
   ],
   "source": [
    "# Delete observations without valid latitude or longitude\n",
    "\n",
    "tbl <- tbl %>% filter(LATDECIMALNMB != 0 & LONGDECIMALNMB != 0) \n",
    "            \n",
    "str(tbl)"
   ]
  },
  {
   "cell_type": "code",
   "execution_count": 5,
   "metadata": {},
   "outputs": [
    {
     "name": "stdout",
     "output_type": "stream",
     "text": [
      "Classes ‘tbl_df’, ‘tbl’ and 'data.frame':\t6418722 obs. of  22 variables:\n",
      " $ INDIVIDUAL_MR_RECORD: num  9.01e+08 9.01e+08 9.01e+08 9.01e+08 9.01e+08 ...\n",
      " $ LATDECIMALNMB       : num  40.7 39.2 40.2 41.6 40 ...\n",
      " $ LONGDECIMALNMB      : num  -85.4 -85.9 -85.4 -86.2 -85.9 ...\n",
      " $ COUNTYDESCR         : chr  \"Huntington\" \"Bartholomew\" \"Delaware\" \"St Joseph\" ...\n",
      " $ UNIQUELOCATIONID    : chr  \"HUNTINGTONAVE\" \"E25THST\" \"KILGOREAVE\" \"WIRELANDRD\" ...\n",
      " $ COLLISION_YEAR      : num  2007 2007 2007 2007 2007 ...\n",
      " $ COLLDTE             : chr  \"2007.11.13\" \"2007.06.09\" \"2007.02.27\" \"2007.12.30\" ...\n",
      " $ SPEEDLIMITTXT       : chr  \"0\" \"15\" \"20\" \"10\" ...\n",
      " $ TRAFFICCNTRLDESCR   : chr  \"None\" \"None\" \"None\" \"None\" ...\n",
      " $ TRAFFICCNTLOPIND    : chr  NA NA NA NA ...\n",
      " $ RUMBLESTRIPIND      : chr  \"N\" \"N\" \"N\" \"N\" ...\n",
      " $ SURFACETYPEDESCR    : chr  \"ASPHALT\" \"ASPHALT\" \"ASPHALT\" \"ASPHALT\" ...\n",
      " $ ROADTYPEDESCR       : chr  \"Private Drive\" \"Private Drive\" \"Private Drive\" \"Private Drive\" ...\n",
      " $ SCHOOLZONEIND       : chr  \"N\" \"N\" \"N\" \"N\" ...\n",
      " $ MANNERCOLLDESCR     : chr  \"Other (Explain in Narrative)\" \"Rear End\" \"Backing\" \"Left Turn\" ...\n",
      " $ COLLEVENTDESCR      : chr  \"Another Motor Vehicle\" \"Another Motor Vehicle\" \"Another Motor Vehicle\" \"Another Motor Vehicle\" ...\n",
      " $ INJUREDNMB          : num  0 0 0 0 0 0 0 0 0 0 ...\n",
      " $ DEADNMB             : num  0 0 0 0 0 0 0 0 0 0 ...\n",
      " $ UNITNMB             : num  1 1 1 1 1 1 1 1 1 1 ...\n",
      " $ OCCUPSNMB           : num  1 1 1 1 1 1 1 1 1 1 ...\n",
      " $ PERSONNMB           : num  1 NA NA 1 NA 1 1 NA NA 1 ...\n",
      " $ PERSONTYPEDESCR     : chr  \"Owner Vehicle\" NA NA \"Owner Vehicle\" ...\n"
     ]
    }
   ],
   "source": [
    "# Delete duplicate rows\n",
    "\n",
    "tbl <- tbl %>% distinct()\n",
    "\n",
    "str(tbl)"
   ]
  },
  {
   "cell_type": "code",
   "execution_count": 6,
   "metadata": {},
   "outputs": [
    {
     "name": "stdout",
     "output_type": "stream",
     "text": [
      "Classes ‘tbl_df’, ‘tbl’ and 'data.frame':\t6418722 obs. of  23 variables:\n",
      " $ INDIVIDUAL_MR_RECORD: num  9.01e+08 9.01e+08 9.01e+08 9.01e+08 9.01e+08 ...\n",
      " $ LATDECIMALNMB       : num  40.7 39.2 40.2 41.6 40 ...\n",
      " $ LONGDECIMALNMB      : num  -85.4 -85.9 -85.4 -86.2 -85.9 ...\n",
      " $ COUNTYDESCR         : chr  \"Huntington\" \"Bartholomew\" \"Delaware\" \"St Joseph\" ...\n",
      " $ UNIQUELOCATIONID    : chr  \"HUNTINGTONAVE\" \"E25THST\" \"KILGOREAVE\" \"WIRELANDRD\" ...\n",
      " $ COLLISION_YEAR      : num  2007 2007 2007 2007 2007 ...\n",
      " $ COLLDTE             : chr  \"2007.11.13\" \"2007.06.09\" \"2007.02.27\" \"2007.12.30\" ...\n",
      " $ SPEEDLIMITTXT       : chr  \"0\" \"15\" \"20\" \"10\" ...\n",
      " $ TRAFFICCNTRLDESCR   : chr  \"None\" \"None\" \"None\" \"None\" ...\n",
      " $ TRAFFICCNTLOPIND    : chr  NA NA NA NA ...\n",
      " $ RUMBLESTRIPIND      : chr  \"N\" \"N\" \"N\" \"N\" ...\n",
      " $ SURFACETYPEDESCR    : chr  \"ASPHALT\" \"ASPHALT\" \"ASPHALT\" \"ASPHALT\" ...\n",
      " $ ROADTYPEDESCR       : chr  \"Private Drive\" \"Private Drive\" \"Private Drive\" \"Private Drive\" ...\n",
      " $ SCHOOLZONEIND       : chr  \"N\" \"N\" \"N\" \"N\" ...\n",
      " $ MANNERCOLLDESCR     : chr  \"Other (Explain in Narrative)\" \"Rear End\" \"Backing\" \"Left Turn\" ...\n",
      " $ COLLEVENTDESCR      : chr  \"Another Motor Vehicle\" \"Another Motor Vehicle\" \"Another Motor Vehicle\" \"Another Motor Vehicle\" ...\n",
      " $ INJUREDNMB          : num  0 0 0 0 0 0 0 0 0 0 ...\n",
      " $ DEADNMB             : num  0 0 0 0 0 0 0 0 0 0 ...\n",
      " $ UNITNMB             : num  1 1 1 1 1 1 1 1 1 1 ...\n",
      " $ OCCUPSNMB           : num  1 1 1 1 1 1 1 1 1 1 ...\n",
      " $ PERSONNMB           : num  1 NA NA 1 NA 1 1 NA NA 1 ...\n",
      " $ PERSONTYPEDESCR     : chr  \"Owner Vehicle\" NA NA \"Owner Vehicle\" ...\n",
      " $ personKey           : int  1 2 3 4 5 6 7 8 9 10 ...\n"
     ]
    }
   ],
   "source": [
    "# Give a unique identifier to each observational unit at the level of individual person\n",
    "\n",
    "tbl <- tbl %>% mutate(personKey = 1:n())\n",
    "\n",
    "str(tbl)"
   ]
  },
  {
   "cell_type": "code",
   "execution_count": 7,
   "metadata": {},
   "outputs": [],
   "source": [
    "write_feather(tbl, \"pasted_ARIES_and_personIDs.feather\")"
   ]
  },
  {
   "cell_type": "markdown",
   "metadata": {},
   "source": [
    "## Part 3: Add useful variables\n",
    "\n",
    "Throughout this project we will need an easy way to know if each observation was involved in an \"active crash\" that involved modes of active mobility like walking or bicycling.\n",
    "\n",
    "You will see that the preexisting \"person type description\" marks each observation of a person by how they were getting around. Two of the options include \"Pedal Cyclist\" or \"Pedestrian\". Additionally, the \"collision event description\" variable also sometimes says that a \"Pedestrian\" or \"Bicyclist\" was hit. Our new variables will combine both of these sources of information.\n",
    "\n",
    "It's important to note here that right now we are marking at the observational level of each individual person-- aka whether each individual was either themself using active mobility or they directly hit somebody using active mobility. I am explicitly clarifying this, because below we will be making a separate table that stores data at the observational level of each crash, which will try and encompass what we know about every person involved in that particular crash.\n",
    "\n",
    "Hopefully, this will make more sense as we work through things."
   ]
  },
  {
   "cell_type": "code",
   "execution_count": 8,
   "metadata": {},
   "outputs": [
    {
     "name": "stdout",
     "output_type": "stream",
     "text": [
      "\u001b[38;5;246m# A tibble: 9 x 2\u001b[39m\n",
      "  PERSONTYPEDESCR                 count\n",
      "  \u001b[3m\u001b[38;5;246m<chr>\u001b[39m\u001b[23m                           \u001b[3m\u001b[38;5;246m<int>\u001b[39m\u001b[23m\n",
      "\u001b[38;5;250m1\u001b[39m Animal Drawn Vehicle Operator     280\n",
      "\u001b[38;5;250m2\u001b[39m Driver                        3\u001b[4m5\u001b[24m\u001b[4m7\u001b[24m\u001b[4m3\u001b[24m573\n",
      "\u001b[38;5;250m3\u001b[39m Injured                        \u001b[4m1\u001b[24m\u001b[4m5\u001b[24m\u001b[4m2\u001b[24m719\n",
      "\u001b[38;5;250m4\u001b[39m Other                             140\n",
      "\u001b[38;5;250m5\u001b[39m Owner Trailer                   \u001b[4m8\u001b[24m\u001b[4m0\u001b[24m886\n",
      "\u001b[38;5;250m6\u001b[39m Owner Vehicle                 2\u001b[4m4\u001b[24m\u001b[4m4\u001b[24m\u001b[4m0\u001b[24m048\n",
      "\u001b[38;5;250m7\u001b[39m Pedal Cyclist                   \u001b[4m1\u001b[24m\u001b[4m1\u001b[24m766\n",
      "\u001b[38;5;250m8\u001b[39m Pedestrian                      \u001b[4m2\u001b[24m\u001b[4m1\u001b[24m421\n",
      "\u001b[38;5;250m9\u001b[39m \u001b[31mNA\u001b[39m                             \u001b[4m1\u001b[24m\u001b[4m3\u001b[24m\u001b[4m7\u001b[24m889\n"
     ]
    },
    {
     "data": {
      "text/html": [
       "<table>\n",
       "<caption>A tibble: 47 × 2</caption>\n",
       "<thead>\n",
       "\t<tr><th scope=col>COLLEVENTDESCR</th><th scope=col>count</th></tr>\n",
       "\t<tr><th scope=col>&lt;chr&gt;</th><th scope=col>&lt;int&gt;</th></tr>\n",
       "</thead>\n",
       "<tbody>\n",
       "\t<tr><td>05                               </td><td>      1</td></tr>\n",
       "\t<tr><td>06                               </td><td>      1</td></tr>\n",
       "\t<tr><td>11                               </td><td>      1</td></tr>\n",
       "\t<tr><td>12                               </td><td>      3</td></tr>\n",
       "\t<tr><td>Animal Drawn Vehicle             </td><td>  10939</td></tr>\n",
       "\t<tr><td>Animal Other Than Deer           </td><td>  23234</td></tr>\n",
       "\t<tr><td>Another Motor Vehicle            </td><td>5064198</td></tr>\n",
       "\t<tr><td>Bicycle                          </td><td>  17755</td></tr>\n",
       "\t<tr><td>Bridge Overhead Structure        </td><td>   3976</td></tr>\n",
       "\t<tr><td>Bridge Parapet End               </td><td>    622</td></tr>\n",
       "\t<tr><td>Bridge Pier or Abutment          </td><td>   2325</td></tr>\n",
       "\t<tr><td>Bridge Rail                      </td><td>   6441</td></tr>\n",
       "\t<tr><td>CABLE BARRIER                    </td><td>   4092</td></tr>\n",
       "\t<tr><td>Cargo/Equipment Shift or Loss    </td><td>   5236</td></tr>\n",
       "\t<tr><td>CONCRETE TRAFFIC BARRIER         </td><td>  16706</td></tr>\n",
       "\t<tr><td>Culvert                          </td><td>   6202</td></tr>\n",
       "\t<tr><td>Curb                             </td><td>  33260</td></tr>\n",
       "\t<tr><td>Deer                             </td><td> 260664</td></tr>\n",
       "\t<tr><td>Ditch                            </td><td>  50911</td></tr>\n",
       "\t<tr><td>Embankment                       </td><td>  16106</td></tr>\n",
       "\t<tr><td>Fell From Vehicle (Non Collision)</td><td>  10438</td></tr>\n",
       "\t<tr><td>Fence                            </td><td>  21555</td></tr>\n",
       "\t<tr><td>Fire/Explosion                   </td><td>   2808</td></tr>\n",
       "\t<tr><td>Guardrail End                    </td><td>   8724</td></tr>\n",
       "\t<tr><td>Guardrail Face                   </td><td>  28603</td></tr>\n",
       "\t<tr><td>Highway Traffic Sign Post        </td><td>  12935</td></tr>\n",
       "\t<tr><td>Immersion                        </td><td>    730</td></tr>\n",
       "\t<tr><td>Impact Attenuator/Crash Cushion  </td><td>   3165</td></tr>\n",
       "\t<tr><td>Jackknife                        </td><td>   3614</td></tr>\n",
       "\t<tr><td>Light/Luminaire Support          </td><td>  14114</td></tr>\n",
       "\t<tr><td>Mailbox                          </td><td>  17672</td></tr>\n",
       "\t<tr><td>Median Barrier                   </td><td>   7889</td></tr>\n",
       "\t<tr><td>Off Roadway                      </td><td>  33553</td></tr>\n",
       "\t<tr><td>Other                            </td><td> 122694</td></tr>\n",
       "\t<tr><td>Other Post/Pole or Support       </td><td>  36087</td></tr>\n",
       "\t<tr><td>OTHER TRAFFIC BARRIER            </td><td>   2912</td></tr>\n",
       "\t<tr><td>Overhead Sign Post               </td><td>   1532</td></tr>\n",
       "\t<tr><td>Overturn/Rollover                </td><td>  13308</td></tr>\n",
       "\t<tr><td>Parked                           </td><td>      1</td></tr>\n",
       "\t<tr><td>Pedestrian                       </td><td>  28743</td></tr>\n",
       "\t<tr><td>Railway Vehicle/Train/Engine     </td><td>   2017</td></tr>\n",
       "\t<tr><td>Ran Off Roadway                  </td><td> 238897</td></tr>\n",
       "\t<tr><td>Tree                             </td><td>  44537</td></tr>\n",
       "\t<tr><td>Utility Pole                     </td><td>  51984</td></tr>\n",
       "\t<tr><td>Wall/Building/Tunnel             </td><td>  24355</td></tr>\n",
       "\t<tr><td>Work Zone Maintenance Equipment  </td><td>   1687</td></tr>\n",
       "\t<tr><td>NA                               </td><td> 161495</td></tr>\n",
       "</tbody>\n",
       "</table>\n"
      ],
      "text/latex": [
       "A tibble: 47 × 2\n",
       "\\begin{tabular}{r|ll}\n",
       " COLLEVENTDESCR & count\\\\\n",
       " <chr> & <int>\\\\\n",
       "\\hline\n",
       "\t 05                                &       1\\\\\n",
       "\t 06                                &       1\\\\\n",
       "\t 11                                &       1\\\\\n",
       "\t 12                                &       3\\\\\n",
       "\t Animal Drawn Vehicle              &   10939\\\\\n",
       "\t Animal Other Than Deer            &   23234\\\\\n",
       "\t Another Motor Vehicle             & 5064198\\\\\n",
       "\t Bicycle                           &   17755\\\\\n",
       "\t Bridge Overhead Structure         &    3976\\\\\n",
       "\t Bridge Parapet End                &     622\\\\\n",
       "\t Bridge Pier or Abutment           &    2325\\\\\n",
       "\t Bridge Rail                       &    6441\\\\\n",
       "\t CABLE BARRIER                     &    4092\\\\\n",
       "\t Cargo/Equipment Shift or Loss     &    5236\\\\\n",
       "\t CONCRETE TRAFFIC BARRIER          &   16706\\\\\n",
       "\t Culvert                           &    6202\\\\\n",
       "\t Curb                              &   33260\\\\\n",
       "\t Deer                              &  260664\\\\\n",
       "\t Ditch                             &   50911\\\\\n",
       "\t Embankment                        &   16106\\\\\n",
       "\t Fell From Vehicle (Non Collision) &   10438\\\\\n",
       "\t Fence                             &   21555\\\\\n",
       "\t Fire/Explosion                    &    2808\\\\\n",
       "\t Guardrail End                     &    8724\\\\\n",
       "\t Guardrail Face                    &   28603\\\\\n",
       "\t Highway Traffic Sign Post         &   12935\\\\\n",
       "\t Immersion                         &     730\\\\\n",
       "\t Impact Attenuator/Crash Cushion   &    3165\\\\\n",
       "\t Jackknife                         &    3614\\\\\n",
       "\t Light/Luminaire Support           &   14114\\\\\n",
       "\t Mailbox                           &   17672\\\\\n",
       "\t Median Barrier                    &    7889\\\\\n",
       "\t Off Roadway                       &   33553\\\\\n",
       "\t Other                             &  122694\\\\\n",
       "\t Other Post/Pole or Support        &   36087\\\\\n",
       "\t OTHER TRAFFIC BARRIER             &    2912\\\\\n",
       "\t Overhead Sign Post                &    1532\\\\\n",
       "\t Overturn/Rollover                 &   13308\\\\\n",
       "\t Parked                            &       1\\\\\n",
       "\t Pedestrian                        &   28743\\\\\n",
       "\t Railway Vehicle/Train/Engine      &    2017\\\\\n",
       "\t Ran Off Roadway                   &  238897\\\\\n",
       "\t Tree                              &   44537\\\\\n",
       "\t Utility Pole                      &   51984\\\\\n",
       "\t Wall/Building/Tunnel              &   24355\\\\\n",
       "\t Work Zone Maintenance Equipment   &    1687\\\\\n",
       "\t NA                                &  161495\\\\\n",
       "\\end{tabular}\n"
      ],
      "text/markdown": [
       "\n",
       "A tibble: 47 × 2\n",
       "\n",
       "| COLLEVENTDESCR &lt;chr&gt; | count &lt;int&gt; |\n",
       "|---|---|\n",
       "| 05                                |       1 |\n",
       "| 06                                |       1 |\n",
       "| 11                                |       1 |\n",
       "| 12                                |       3 |\n",
       "| Animal Drawn Vehicle              |   10939 |\n",
       "| Animal Other Than Deer            |   23234 |\n",
       "| Another Motor Vehicle             | 5064198 |\n",
       "| Bicycle                           |   17755 |\n",
       "| Bridge Overhead Structure         |    3976 |\n",
       "| Bridge Parapet End                |     622 |\n",
       "| Bridge Pier or Abutment           |    2325 |\n",
       "| Bridge Rail                       |    6441 |\n",
       "| CABLE BARRIER                     |    4092 |\n",
       "| Cargo/Equipment Shift or Loss     |    5236 |\n",
       "| CONCRETE TRAFFIC BARRIER          |   16706 |\n",
       "| Culvert                           |    6202 |\n",
       "| Curb                              |   33260 |\n",
       "| Deer                              |  260664 |\n",
       "| Ditch                             |   50911 |\n",
       "| Embankment                        |   16106 |\n",
       "| Fell From Vehicle (Non Collision) |   10438 |\n",
       "| Fence                             |   21555 |\n",
       "| Fire/Explosion                    |    2808 |\n",
       "| Guardrail End                     |    8724 |\n",
       "| Guardrail Face                    |   28603 |\n",
       "| Highway Traffic Sign Post         |   12935 |\n",
       "| Immersion                         |     730 |\n",
       "| Impact Attenuator/Crash Cushion   |    3165 |\n",
       "| Jackknife                         |    3614 |\n",
       "| Light/Luminaire Support           |   14114 |\n",
       "| Mailbox                           |   17672 |\n",
       "| Median Barrier                    |    7889 |\n",
       "| Off Roadway                       |   33553 |\n",
       "| Other                             |  122694 |\n",
       "| Other Post/Pole or Support        |   36087 |\n",
       "| OTHER TRAFFIC BARRIER             |    2912 |\n",
       "| Overhead Sign Post                |    1532 |\n",
       "| Overturn/Rollover                 |   13308 |\n",
       "| Parked                            |       1 |\n",
       "| Pedestrian                        |   28743 |\n",
       "| Railway Vehicle/Train/Engine      |    2017 |\n",
       "| Ran Off Roadway                   |  238897 |\n",
       "| Tree                              |   44537 |\n",
       "| Utility Pole                      |   51984 |\n",
       "| Wall/Building/Tunnel              |   24355 |\n",
       "| Work Zone Maintenance Equipment   |    1687 |\n",
       "| NA                                |  161495 |\n",
       "\n"
      ],
      "text/plain": [
       "   COLLEVENTDESCR                    count  \n",
       "1  05                                      1\n",
       "2  06                                      1\n",
       "3  11                                      1\n",
       "4  12                                      3\n",
       "5  Animal Drawn Vehicle                10939\n",
       "6  Animal Other Than Deer              23234\n",
       "7  Another Motor Vehicle             5064198\n",
       "8  Bicycle                             17755\n",
       "9  Bridge Overhead Structure            3976\n",
       "10 Bridge Parapet End                    622\n",
       "11 Bridge Pier or Abutment              2325\n",
       "12 Bridge Rail                          6441\n",
       "13 CABLE BARRIER                        4092\n",
       "14 Cargo/Equipment Shift or Loss        5236\n",
       "15 CONCRETE TRAFFIC BARRIER            16706\n",
       "16 Culvert                              6202\n",
       "17 Curb                                33260\n",
       "18 Deer                               260664\n",
       "19 Ditch                               50911\n",
       "20 Embankment                          16106\n",
       "21 Fell From Vehicle (Non Collision)   10438\n",
       "22 Fence                               21555\n",
       "23 Fire/Explosion                       2808\n",
       "24 Guardrail End                        8724\n",
       "25 Guardrail Face                      28603\n",
       "26 Highway Traffic Sign Post           12935\n",
       "27 Immersion                             730\n",
       "28 Impact Attenuator/Crash Cushion      3165\n",
       "29 Jackknife                            3614\n",
       "30 Light/Luminaire Support             14114\n",
       "31 Mailbox                             17672\n",
       "32 Median Barrier                       7889\n",
       "33 Off Roadway                         33553\n",
       "34 Other                              122694\n",
       "35 Other Post/Pole or Support          36087\n",
       "36 OTHER TRAFFIC BARRIER                2912\n",
       "37 Overhead Sign Post                   1532\n",
       "38 Overturn/Rollover                   13308\n",
       "39 Parked                                  1\n",
       "40 Pedestrian                          28743\n",
       "41 Railway Vehicle/Train/Engine         2017\n",
       "42 Ran Off Roadway                    238897\n",
       "43 Tree                                44537\n",
       "44 Utility Pole                        51984\n",
       "45 Wall/Building/Tunnel                24355\n",
       "46 Work Zone Maintenance Equipment      1687\n",
       "47 NA                                 161495"
      ]
     },
     "metadata": {},
     "output_type": "display_data"
    }
   ],
   "source": [
    "# Show how to identify collisions involving active mobility\n",
    "\n",
    "print(tbl %>% group_by(PERSONTYPEDESCR) %>% summarize(count = n()))\n",
    "tbl %>% group_by(COLLEVENTDESCR) %>% summarize(count = n())"
   ]
  },
  {
   "cell_type": "code",
   "execution_count": 9,
   "metadata": {},
   "outputs": [
    {
     "name": "stdout",
     "output_type": "stream",
     "text": [
      "Classes ‘rowwise_df’, ‘tbl_df’, ‘tbl’ and 'data.frame':\t6418722 obs. of  24 variables:\n",
      " $ INDIVIDUAL_MR_RECORD: num  9.01e+08 9.01e+08 9.01e+08 9.01e+08 9.01e+08 ...\n",
      " $ LATDECIMALNMB       : num  40.7 39.2 40.2 41.6 40 ...\n",
      " $ LONGDECIMALNMB      : num  -85.4 -85.9 -85.4 -86.2 -85.9 ...\n",
      " $ COUNTYDESCR         : chr  \"Huntington\" \"Bartholomew\" \"Delaware\" \"St Joseph\" ...\n",
      " $ UNIQUELOCATIONID    : chr  \"HUNTINGTONAVE\" \"E25THST\" \"KILGOREAVE\" \"WIRELANDRD\" ...\n",
      " $ COLLISION_YEAR      : num  2007 2007 2007 2007 2007 ...\n",
      " $ COLLDTE             : chr  \"2007.11.13\" \"2007.06.09\" \"2007.02.27\" \"2007.12.30\" ...\n",
      " $ SPEEDLIMITTXT       : chr  \"0\" \"15\" \"20\" \"10\" ...\n",
      " $ TRAFFICCNTRLDESCR   : chr  \"None\" \"None\" \"None\" \"None\" ...\n",
      " $ TRAFFICCNTLOPIND    : chr  NA NA NA NA ...\n",
      " $ RUMBLESTRIPIND      : chr  \"N\" \"N\" \"N\" \"N\" ...\n",
      " $ SURFACETYPEDESCR    : chr  \"ASPHALT\" \"ASPHALT\" \"ASPHALT\" \"ASPHALT\" ...\n",
      " $ ROADTYPEDESCR       : chr  \"Private Drive\" \"Private Drive\" \"Private Drive\" \"Private Drive\" ...\n",
      " $ SCHOOLZONEIND       : chr  \"N\" \"N\" \"N\" \"N\" ...\n",
      " $ MANNERCOLLDESCR     : chr  \"Other (Explain in Narrative)\" \"Rear End\" \"Backing\" \"Left Turn\" ...\n",
      " $ COLLEVENTDESCR      : chr  \"Another Motor Vehicle\" \"Another Motor Vehicle\" \"Another Motor Vehicle\" \"Another Motor Vehicle\" ...\n",
      " $ INJUREDNMB          : num  0 0 0 0 0 0 0 0 0 0 ...\n",
      " $ DEADNMB             : num  0 0 0 0 0 0 0 0 0 0 ...\n",
      " $ UNITNMB             : num  1 1 1 1 1 1 1 1 1 1 ...\n",
      " $ OCCUPSNMB           : num  1 1 1 1 1 1 1 1 1 1 ...\n",
      " $ PERSONNMB           : num  1 NA NA 1 NA 1 1 NA NA 1 ...\n",
      " $ PERSONTYPEDESCR     : chr  \"Owner Vehicle\" NA NA \"Owner Vehicle\" ...\n",
      " $ personKey           : int  1 2 3 4 5 6 7 8 9 10 ...\n",
      " $ personMode          : chr  \"Other\" \"Other\" \"Other\" \"Other\" ...\n"
     ]
    }
   ],
   "source": [
    "# Function to consolidate variables based on mode of active mobility\n",
    "\n",
    "assignMode = function(x, y) {\n",
    "    if (any(x %in% \"Pedestrian\", y %in% \"Pedestrian\")) {\n",
    "        return(\"Pedestrian\")\n",
    "    }\n",
    "    else if (any(x %in% \"Pedal Cyclist\", y %in% \"Bicycle\")) {\n",
    "        return(\"Bicyclist\")\n",
    "    }\n",
    "    else {\n",
    "        return(\"Other\")\n",
    "    }\n",
    "}\n",
    "\n",
    "# This toy validated the function above\n",
    "# toy <- tribble(\n",
    "#     ~PERSONTYPEDESCR, ~COLLEVENTDESCR, ~UNIMPORTANT,\n",
    "#     \"Pedestrian\", \"Pedestrian\",34,\n",
    "#     \"fsdsdf\", \"Pedestrian\",34,\n",
    "#     \"dsfsd\",\"Bicycle\",54,\n",
    "#     \"Pedal Cyclist\", \"fsdfd\",76,\n",
    "#     \"dfsdfd\", \"sdfsdfds\",78,\n",
    "#     NA,\"sdasda\",87,\n",
    "#     NA, \"Bicycle\",98,\n",
    "#     \"fdsfsd\", NA, 03,\n",
    "#     \"Pedestrian\",NA,98\n",
    "    \n",
    "# )\n",
    "\n",
    "# Make variable that marks this observation as involving either walking mobility, bicycling mobility, or other\n",
    "\n",
    "tbl <- tbl %>% rowwise() %>% mutate(personMode = assignMode(PERSONTYPEDESCR,COLLEVENTDESCR))\n",
    "\n",
    "str(tbl)"
   ]
  },
  {
   "cell_type": "code",
   "execution_count": 10,
   "metadata": {},
   "outputs": [],
   "source": [
    "write_feather(tbl, \"pasted_ARIES_and_IDs_mode.feather\")"
   ]
  },
  {
   "cell_type": "code",
   "execution_count": 11,
   "metadata": {},
   "outputs": [
    {
     "name": "stdout",
     "output_type": "stream",
     "text": [
      "Classes ‘tbl_df’, ‘tbl’ and 'data.frame':\t6418722 obs. of  24 variables:\n",
      " $ INDIVIDUAL_MR_RECORD: num  9.01e+08 9.01e+08 9.01e+08 9.01e+08 9.01e+08 ...\n",
      " $ LATDECIMALNMB       : num  40.7 39.2 40.2 41.6 40 ...\n",
      " $ LONGDECIMALNMB      : num  -85.4 -85.9 -85.4 -86.2 -85.9 ...\n",
      " $ COUNTYDESCR         : chr  \"Huntington\" \"Bartholomew\" \"Delaware\" \"St Joseph\" ...\n",
      " $ UNIQUELOCATIONID    : chr  \"HUNTINGTONAVE\" \"E25THST\" \"KILGOREAVE\" \"WIRELANDRD\" ...\n",
      " $ COLLISION_YEAR      : num  2007 2007 2007 2007 2007 ...\n",
      " $ COLLDTE             : chr  \"2007.11.13\" \"2007.06.09\" \"2007.02.27\" \"2007.12.30\" ...\n",
      " $ SPEEDLIMITTXT       : chr  \"0\" \"15\" \"20\" \"10\" ...\n",
      " $ TRAFFICCNTRLDESCR   : chr  \"None\" \"None\" \"None\" \"None\" ...\n",
      " $ TRAFFICCNTLOPIND    : chr  NA NA NA NA ...\n",
      " $ RUMBLESTRIPIND      : chr  \"N\" \"N\" \"N\" \"N\" ...\n",
      " $ SURFACETYPEDESCR    : chr  \"ASPHALT\" \"ASPHALT\" \"ASPHALT\" \"ASPHALT\" ...\n",
      " $ ROADTYPEDESCR       : chr  \"Private Drive\" \"Private Drive\" \"Private Drive\" \"Private Drive\" ...\n",
      " $ SCHOOLZONEIND       : chr  \"N\" \"N\" \"N\" \"N\" ...\n",
      " $ MANNERCOLLDESCR     : chr  \"Other (Explain in Narrative)\" \"Rear End\" \"Backing\" \"Left Turn\" ...\n",
      " $ COLLEVENTDESCR      : chr  \"Another Motor Vehicle\" \"Another Motor Vehicle\" \"Another Motor Vehicle\" \"Another Motor Vehicle\" ...\n",
      " $ INJUREDNMB          : num  0 0 0 0 0 0 0 0 0 0 ...\n",
      " $ DEADNMB             : num  0 0 0 0 0 0 0 0 0 0 ...\n",
      " $ UNITNMB             : num  1 1 1 1 1 1 1 1 1 1 ...\n",
      " $ OCCUPSNMB           : num  1 1 1 1 1 1 1 1 1 1 ...\n",
      " $ PERSONNMB           : num  1 NA NA 1 NA 1 1 NA NA 1 ...\n",
      " $ PERSONTYPEDESCR     : chr  \"Owner Vehicle\" NA NA \"Owner Vehicle\" ...\n",
      " $ personKey           : int  1 2 3 4 5 6 7 8 9 10 ...\n",
      " $ personMode          : chr  \"Other\" \"Other\" \"Other\" \"Other\" ...\n"
     ]
    }
   ],
   "source": [
    "# R keeps crashing when I don't reload the dataset at this point and try to go immediately to the next cell ¯\\_(ツ)_/¯. For the interest of sanity, I'm just reloading the feather file I just saved.\n",
    "\n",
    "tbl <- read_feather(\"pasted_ARIES_and_IDs_mode.feather\")\n",
    "\n",
    "str(tbl)"
   ]
  },
  {
   "cell_type": "code",
   "execution_count": 13,
   "metadata": {},
   "outputs": [
    {
     "name": "stdout",
     "output_type": "stream",
     "text": [
      "Classes ‘tbl_df’, ‘tbl’ and 'data.frame':\t6418722 obs. of  25 variables:\n",
      " $ INDIVIDUAL_MR_RECORD: num  9.01e+08 9.01e+08 9.01e+08 9.01e+08 9.01e+08 ...\n",
      " $ LATDECIMALNMB       : num  40.7 39.2 40.2 41.6 40 ...\n",
      " $ LONGDECIMALNMB      : num  -85.4 -85.9 -85.4 -86.2 -85.9 ...\n",
      " $ COUNTYDESCR         : chr  \"Huntington\" \"Bartholomew\" \"Delaware\" \"St Joseph\" ...\n",
      " $ UNIQUELOCATIONID    : chr  \"HUNTINGTONAVE\" \"E25THST\" \"KILGOREAVE\" \"WIRELANDRD\" ...\n",
      " $ COLLISION_YEAR      : num  2007 2007 2007 2007 2007 ...\n",
      " $ COLLDTE             : chr  \"2007.11.13\" \"2007.06.09\" \"2007.02.27\" \"2007.12.30\" ...\n",
      " $ SPEEDLIMITTXT       : chr  \"0\" \"15\" \"20\" \"10\" ...\n",
      " $ TRAFFICCNTRLDESCR   : chr  \"None\" \"None\" \"None\" \"None\" ...\n",
      " $ TRAFFICCNTLOPIND    : chr  NA NA NA NA ...\n",
      " $ RUMBLESTRIPIND      : chr  \"N\" \"N\" \"N\" \"N\" ...\n",
      " $ SURFACETYPEDESCR    : chr  \"ASPHALT\" \"ASPHALT\" \"ASPHALT\" \"ASPHALT\" ...\n",
      " $ ROADTYPEDESCR       : chr  \"Private Drive\" \"Private Drive\" \"Private Drive\" \"Private Drive\" ...\n",
      " $ SCHOOLZONEIND       : chr  \"N\" \"N\" \"N\" \"N\" ...\n",
      " $ MANNERCOLLDESCR     : chr  \"Other (Explain in Narrative)\" \"Rear End\" \"Backing\" \"Left Turn\" ...\n",
      " $ COLLEVENTDESCR      : chr  \"Another Motor Vehicle\" \"Another Motor Vehicle\" \"Another Motor Vehicle\" \"Another Motor Vehicle\" ...\n",
      " $ INJUREDNMB          : num  0 0 0 0 0 0 0 0 0 0 ...\n",
      " $ DEADNMB             : num  0 0 0 0 0 0 0 0 0 0 ...\n",
      " $ UNITNMB             : num  1 1 1 1 1 1 1 1 1 1 ...\n",
      " $ OCCUPSNMB           : num  1 1 1 1 1 1 1 1 1 1 ...\n",
      " $ PERSONNMB           : num  1 NA NA 1 NA 1 1 NA NA 1 ...\n",
      " $ PERSONTYPEDESCR     : chr  \"Owner Vehicle\" NA NA \"Owner Vehicle\" ...\n",
      " $ personKey           : int  1 2 3 4 5 6 7 8 9 10 ...\n",
      " $ personMode          : chr  \"Other\" \"Other\" \"Other\" \"Other\" ...\n",
      " $ personActive        : Factor w/ 2 levels \"active\",\"inactive\": 2 2 2 2 2 2 2 2 2 2 ...\n"
     ]
    }
   ],
   "source": [
    "# Make mode of activity into a binary factor variable\n",
    "\n",
    "tbl <- tbl %>% mutate(personActive = as.factor(ifelse(personMode %in% c(\"Bicyclist\",\"Pedestrian\"),\"active\",\"inactive\")))\n",
    "\n",
    "str(tbl)"
   ]
  },
  {
   "cell_type": "code",
   "execution_count": 14,
   "metadata": {},
   "outputs": [],
   "source": [
    "write_feather(tbl, \"pasted_ARIES_and_IDs_mode_personActive.feather\")"
   ]
  },
  {
   "cell_type": "markdown",
   "metadata": {},
   "source": [
    "## Part 4: Derive a \"tidy\" table for crashes as the individual unit\n",
    "\n",
    "One of the principles of [\"tidy\" data](https://tidyr.tidyverse.org/) is that observational units at different levels (aka at the level of each person versus each crash) should be stored in separate tables. Before knowing this, I learned firsthand how not following this principle can lead to inconsistent results from analyses."
   ]
  },
  {
   "cell_type": "code",
   "execution_count": null,
   "metadata": {},
   "outputs": [],
   "source": [
    "crashTbl <- tbl %>% \n",
    "    # These variables are not applicable at the crash level of observational unit\n",
    "    select(-COLLEVENTDESCR, -UNITNMB, -OCCUPSNMB, -PERSONNMB, -PERSONTYPEDESCR, -personMode) %>%\n",
    "    # 447589 has inconsistent values with its group\n",
    "    filter(!personKey %in% 447589) %>%\n",
    "    # Group observations by crash event ID\n",
    "    group_by(INDIVIDUAL_MR_RECORD) %>%\n",
    "    # Create summary variables for each crash event\n",
    "    summarize(county = first(COUNTYDESCR),\n",
    "              locationID = first(UNIQUELOCATIONID),\n",
    "              long = first(LONGDECIMALNMB),\n",
    "              lat = first(LATDECIMALNMB),\n",
    "              year = first(COLLISION_YEAR),\n",
    "              date = first(COLLDTE),\n",
    "              activeCrash = any(personActive %in% \"active\"), \n",
    "              roadType = first(ROADTYPEDESCR),\n",
    "              speedLimit = mean(as.numeric(SPEEDLIMITTXT), na.rm = TRUE),\n",
    "              trafficControl = first(TRAFFICCNTRLDESCR),\n",
    "              workingTrafficCntl = first(TRAFFICCNTLOPIND),\n",
    "              rumbleStrips = first(RUMBLESTRIPIND),\n",
    "              surfaceType = first(SURFACETYPEDESCR),\n",
    "              schoolZone = first(SCHOOLZONEIND),\n",
    "              mannerOfCollision = first(MANNERCOLLDESCR),\n",
    "              numberInjured = first(INJUREDNMB),\n",
    "              numberDead = first(DEADNMB)\n",
    "             ) %>%\n",
    "    ungroup()\n",
    "        \n",
    "# This consolidation method was validated by checking for distinct values in each variable with notes as below\n",
    "    # These are still included in the dataset but note that crash 902089566 either took place on Industrial or International Dr;\n",
    "    # 902319772 either took place on 2014-10-22 or 12; \n",
    "    # 903220875 either took place in 2018-08-15 or 09-15;\n",
    "# There are many instances where speed limit recorded is inconsistent, we will average this value\n",
    "# There are many instances where road type is inconsistent, I considered using the statistical mode, but the R function does not know how to handle ties. I will just select the first value in each group, this will be validated in road audits anyway down the line"
   ]
  },
  {
   "cell_type": "code",
   "execution_count": 77,
   "metadata": {},
   "outputs": [
    {
     "name": "stdout",
     "output_type": "stream",
     "text": [
      "Classes ‘tbl_df’, ‘tbl’ and 'data.frame':\t2316061 obs. of  18 variables:\n",
      " $ INDIVIDUAL_MR_RECORD: num  20087 89296 89299 102620 140414 ...\n",
      " $ county              : chr  \"Marion\" \"Marion\" \"Marion\" \"Marion\" ...\n",
      " $ locationID          : chr  \"KENTUCKYAVE\" \"SHIGHSCHOOLRDWPOWELLRD\" \"MILHOUSERDRIVERSPORTCT\" \"1STAVECRAWFORDSVILLERD\" ...\n",
      " $ long                : num  -86.3 -86.3 -86.3 -86.3 -86.3 ...\n",
      " $ lat                 : num  39.7 39.7 39.7 39.8 39.7 ...\n",
      " $ year                : num  2010 2007 2009 2007 2008 ...\n",
      " $ date                : chr  \"2010.10.13\" \"2007.10.02\" \"2009.09.10\" \"2007.03.29\" ...\n",
      " $ activeCrash         : logi  FALSE FALSE FALSE FALSE FALSE FALSE ...\n",
      " $ roadType            : chr  \"Private Drive\" \"Two Lanes (Two Way)\" \"Two Lanes (Two Way)\" \"Two Lanes (Two Way)\" ...\n",
      " $ speedLimit          : num  15 25 25 30 40 15 25 25 30 45 ...\n",
      " $ trafficControl      : chr  NA NA \"None\" \"None\" ...\n",
      " $ workingTrafficCntl  : chr  NA NA NA NA ...\n",
      " $ rumbleStrips        : chr  \"N\" \"N\" \"N\" \"N\" ...\n",
      " $ surfaceType         : chr  NA NA NA NA ...\n",
      " $ schoolZone          : chr  \"N\" \"Y\" \"N\" \"N\" ...\n",
      " $ mannerOfCollision   : chr  \"Head On\" \"Rear End\" \"Rear End\" \"Rear End\" ...\n",
      " $ numberInjured       : num  1 0 0 1 0 0 0 0 0 0 ...\n",
      " $ numberDead          : num  0 0 0 0 0 0 0 0 0 0 ...\n"
     ]
    }
   ],
   "source": [
    "str(crashTbl)"
   ]
  },
  {
   "cell_type": "code",
   "execution_count": 78,
   "metadata": {},
   "outputs": [
    {
     "data": {
      "text/plain": [
       "   Mode   FALSE    TRUE \n",
       "logical 2281862   34199 "
      ]
     },
     "metadata": {},
     "output_type": "display_data"
    }
   ],
   "source": [
    "summary(crashTbl$activeCrash)"
   ]
  },
  {
   "cell_type": "code",
   "execution_count": 79,
   "metadata": {},
   "outputs": [],
   "source": [
    "write_feather(crashTbl, \"ariesCrashes.feather\")"
   ]
  },
  {
   "cell_type": "markdown",
   "metadata": {},
   "source": [
    "## Part 5: Subsetting by active mobility for future convenience\n",
    "\n",
    "Depending on the analysis, sometimes you only need data on active versus inactive crashes"
   ]
  },
  {
   "cell_type": "code",
   "execution_count": 80,
   "metadata": {},
   "outputs": [
    {
     "name": "stdout",
     "output_type": "stream",
     "text": [
      "Classes ‘tbl_df’, ‘tbl’ and 'data.frame':\t34199 obs. of  18 variables:\n",
      " $ INDIVIDUAL_MR_RECORD: num  364290 411775 697708 1020241 1032544 ...\n",
      " $ county              : chr  \"Marion\" \"Marion\" \"Marion\" \"Vigo\" ...\n",
      " $ locationID          : chr  \"W56THST\" \"E10THSTNRURALST\" \"WMERIDIANSCHOOLRDWMERIDIANSCHOOLRD\" \"13THST8THAVE\" ...\n",
      " $ long                : num  -86.1 -86.1 -86.2 -87.4 -85.4 ...\n",
      " $ lat                 : num  39.9 39.8 39.6 39.5 39.9 ...\n",
      " $ year                : num  2007 2007 2007 2007 2008 ...\n",
      " $ date                : chr  \"2007.09.13\" \"2007.07.03\" \"2007.12.15\" \"2007.06.20\" ...\n",
      " $ activeCrash         : logi  TRUE TRUE TRUE TRUE TRUE TRUE ...\n",
      " $ roadType            : chr  \"Two Lanes (Two Way)\" \"Multi-Lane Undivided (Two Way)\" \"Private Drive\" \"Two Lanes (Two Way)\" ...\n",
      " $ speedLimit          : num  40 30 NaN 30 30 NaN NaN NaN 30 20 ...\n",
      " $ trafficControl      : chr  NA NA NA \"Traffic Control Signal\" ...\n",
      " $ workingTrafficCntl  : chr  \"N\" \"Y\" NA \"Y\" ...\n",
      " $ rumbleStrips        : chr  \"N\" \"N\" \"N\" \"N\" ...\n",
      " $ surfaceType         : chr  NA NA NA \"ASPHALT\" ...\n",
      " $ schoolZone          : chr  \"N\" \"N\" \"N\" \"N\" ...\n",
      " $ mannerOfCollision   : chr  \"Head On\" \"Left Turn\" \"Head On\" \"Right Angle\" ...\n",
      " $ numberInjured       : num  1 1 1 1 1 1 0 0 1 0 ...\n",
      " $ numberDead          : num  0 0 0 0 0 0 0 0 0 0 ...\n"
     ]
    }
   ],
   "source": [
    "# Make dataset of crashes that all involve active mobility\n",
    "\n",
    "activeTbl <- crashTbl %>% filter(activeCrash == TRUE)\n",
    "\n",
    "str(activeTbl)"
   ]
  },
  {
   "cell_type": "code",
   "execution_count": 82,
   "metadata": {},
   "outputs": [],
   "source": [
    "write_feather(activeTbl,\"ariesActiveCrashes.feather\")"
   ]
  },
  {
   "cell_type": "code",
   "execution_count": 84,
   "metadata": {},
   "outputs": [
    {
     "name": "stdout",
     "output_type": "stream",
     "text": [
      "Classes ‘tbl_df’, ‘tbl’ and 'data.frame':\t2281862 obs. of  18 variables:\n",
      " $ INDIVIDUAL_MR_RECORD: num  20087 89296 89299 102620 140414 ...\n",
      " $ county              : chr  \"Marion\" \"Marion\" \"Marion\" \"Marion\" ...\n",
      " $ locationID          : chr  \"KENTUCKYAVE\" \"SHIGHSCHOOLRDWPOWELLRD\" \"MILHOUSERDRIVERSPORTCT\" \"1STAVECRAWFORDSVILLERD\" ...\n",
      " $ long                : num  -86.3 -86.3 -86.3 -86.3 -86.3 ...\n",
      " $ lat                 : num  39.7 39.7 39.7 39.8 39.7 ...\n",
      " $ year                : num  2010 2007 2009 2007 2008 ...\n",
      " $ date                : chr  \"2010.10.13\" \"2007.10.02\" \"2009.09.10\" \"2007.03.29\" ...\n",
      " $ activeCrash         : logi  FALSE FALSE FALSE FALSE FALSE FALSE ...\n",
      " $ roadType            : chr  \"Private Drive\" \"Two Lanes (Two Way)\" \"Two Lanes (Two Way)\" \"Two Lanes (Two Way)\" ...\n",
      " $ speedLimit          : num  15 25 25 30 40 15 25 25 30 45 ...\n",
      " $ trafficControl      : chr  NA NA \"None\" \"None\" ...\n",
      " $ workingTrafficCntl  : chr  NA NA NA NA ...\n",
      " $ rumbleStrips        : chr  \"N\" \"N\" \"N\" \"N\" ...\n",
      " $ surfaceType         : chr  NA NA NA NA ...\n",
      " $ schoolZone          : chr  \"N\" \"Y\" \"N\" \"N\" ...\n",
      " $ mannerOfCollision   : chr  \"Head On\" \"Rear End\" \"Rear End\" \"Rear End\" ...\n",
      " $ numberInjured       : num  1 0 0 1 0 0 0 0 0 0 ...\n",
      " $ numberDead          : num  0 0 0 0 0 0 0 0 0 0 ...\n"
     ]
    }
   ],
   "source": [
    "# Make dataset of collisions that have no inclusion of active mobility\n",
    "\n",
    "inactiveTbl <- crashTbl %>% filter(activeCrash == FALSE)\n",
    "\n",
    "str(inactiveTbl)"
   ]
  },
  {
   "cell_type": "code",
   "execution_count": 85,
   "metadata": {},
   "outputs": [],
   "source": [
    "write_feather(inactiveTbl,\"ariesInactiveCrashes.feather\")"
   ]
  },
  {
   "cell_type": "code",
   "execution_count": 86,
   "metadata": {},
   "outputs": [
    {
     "name": "stdout",
     "output_type": "stream",
     "text": [
      "Classes ‘tbl_df’, ‘tbl’ and 'data.frame':\t0 obs. of  35 variables:\n",
      " $ INDIVIDUAL_MR_RECORD: num \n",
      " $ county.x            : chr \n",
      " $ locationID.x        : chr \n",
      " $ long.x              : num \n",
      " $ lat.x               : num \n",
      " $ year.x              : num \n",
      " $ date.x              : chr \n",
      " $ activeCrash.x       : logi \n",
      " $ roadType.x          : chr \n",
      " $ speedLimit.x        : num \n",
      " $ trafficControl.x    : chr \n",
      " $ workingTrafficCntl.x: chr \n",
      " $ rumbleStrips.x      : chr \n",
      " $ surfaceType.x       : chr \n",
      " $ schoolZone.x        : chr \n",
      " $ mannerOfCollision.x : chr \n",
      " $ numberInjured.x     : num \n",
      " $ numberDead.x        : num \n",
      " $ county.y            : chr \n",
      " $ locationID.y        : chr \n",
      " $ long.y              : num \n",
      " $ lat.y               : num \n",
      " $ year.y              : num \n",
      " $ date.y              : chr \n",
      " $ activeCrash.y       : logi \n",
      " $ roadType.y          : chr \n",
      " $ speedLimit.y        : num \n",
      " $ trafficControl.y    : chr \n",
      " $ workingTrafficCntl.y: chr \n",
      " $ rumbleStrips.y      : chr \n",
      " $ surfaceType.y       : chr \n",
      " $ schoolZone.y        : chr \n",
      " $ mannerOfCollision.y : chr \n",
      " $ numberInjured.y     : num \n",
      " $ numberDead.y        : num \n"
     ]
    }
   ],
   "source": [
    "# Verify there is no overlap in observations between the two tables\n",
    "\n",
    "overlap <- inner_join(activeTbl, inactiveTbl, by=\"INDIVIDUAL_MR_RECORD\")\n",
    "\n",
    "str(overlap)"
   ]
  },
  {
   "cell_type": "markdown",
   "metadata": {},
   "source": [
    "Now that we have a datasets ready, we can get started on the actual analyses!"
   ]
  },
  {
   "cell_type": "markdown",
   "metadata": {},
   "source": [
    "## Postscript: Legacy cells used for troubleshooting or exploratory analysis"
   ]
  },
  {
   "cell_type": "code",
   "execution_count": 4,
   "metadata": {},
   "outputs": [],
   "source": [
    "#This cell debugged the manual typing of variables\n",
    "\n",
    "# probs <- tibble()\n",
    "\n",
    "#ariesVars <- c(\"PERSONTYPEDESCR\",\"GENDERCDE\",\"AGE_GRP\",\"INJSTATUSDESCR\",\"INJNATUREDESCR\",\"TESTGIVENDESCR\",\"RESULTALCHTXT\",\"RESULTDRUGIND\", \"COUNTYDESCR\",\"COLLDTE\",\"MOTORVEHINVOLVEDNMB\",\"INJUREDNMB\",\"DEADNMB\",\"RDWYSUFFIXTXT\",\"LATDECIMALNMB\",\"LONGDECIMALNMB\", \"TRAFFICCNTLOPIND\",\"AGGRESSIVEDRIVEIND\",\"HITRUNIND\",\"SCHOOLZONEIND\",\"RUMBLESTRIPIND\",\"CONSTRUCTIND\",\"LIGHTCONDDESCR\", \"WEATHERDESCR\",\"SURFACETYPECDE_CONDDESCR\",\"TYPEDESCR\",\"PRIMARYFACTORDESCR\",\"MANNERCOLLDESCR\",\"TRAFFICCNTRLDESCR\", \"UNITTYPEDESCR\",\"OCCUPSNMB\",\"SPEEDLIMITTXT\",\"VEHUSEDESCR\",\"ROADTYPEDESCR\",\"TRAVDIRDESCR\",\"EMGERENCY_RUN\",\"PRECOLLACTDESCR\")\n",
    "\n",
    "# for (year in 2007:2019) {\n",
    "#     dataset <- paste0(\"aries_crash_data_\",year,\".csv\")\n",
    "#     tbl <- read_csv(dataset,\n",
    "#                        col_types=\"dddcddcccdcdcdccdcdcdcdcccccddcdccccdtcdddddccccdcddccccccdcdccdcdcdcccccccccccdddccccdcccccdcdcccccdcdccdc\") %>% \n",
    "#                 select(7:9,18,20,23,25,26,31,34,40,42,43,45,51,52,53,54:58,60,62,63,65,67,69,79,83,87,91,94,96,98,99,104) %>%\n",
    "#                 filter(PERSONTYPEDESCR %in% c(\"Pedal Cyclist\",\"Pedestrian\"))\n",
    "#     locprobs <- problems(tbl) %>% \n",
    "#                 group_by(col,expected,actual) %>% \n",
    "#                 summarize(count = n()) %>%\n",
    "#                 filter(col %in% ariesVars)\n",
    "#     probs <- bind_rows(probs,locprobs)\n",
    "# }\n",
    "\n",
    "# probs"
   ]
  },
  {
   "cell_type": "code",
   "execution_count": 5,
   "metadata": {},
   "outputs": [],
   "source": [
    "#This cell generated missing value percentages\n",
    "# library(purrr)\n",
    "\n",
    "# tbl %>% map(~ (mean(is.na(.))*100))"
   ]
  },
  {
   "cell_type": "code",
   "execution_count": 6,
   "metadata": {},
   "outputs": [],
   "source": [
    "#This cell dropped variables that had missing values that were above 75% (Injury status and nature)\n",
    "\n",
    "# tbl2 <- tbl %>% select(which(colMeans(is.na(.))*100 < 75))\n",
    "\n",
    "# tbl2 %>% map(~ (mean(is.na(.))*100))"
   ]
  },
  {
   "cell_type": "code",
   "execution_count": null,
   "metadata": {},
   "outputs": [],
   "source": [
    "# # This cell attempted to give each observation its own \"unique\" id by combining crash ID, vehicle ID, and person ID\n",
    "# tbl <- tbl %>% mutate(nested_id = as.numeric(paste0(INDIVIDUAL_MR_RECORD,UNITNMB,PERSONNMB)))\n",
    "\n",
    "# str(tbl)\n",
    "\n",
    "# # We still have repeat nested_id's and not all of these repeats are \"NA\"\n",
    "# paste0(\"Number of distinct index numbers: \",n_distinct(tbl$nested_id))\n",
    "# paste0(\"Number of index numbers that are NA: \",sum(is.na(tbl$nested_id)))\n",
    "\n",
    "# # This \"toy\" was used for validating the script below\n",
    "# # toy <- tribble(\n",
    "# #     ~a, ~b, ~nested_id,\n",
    "# #     1, 2, 3, \n",
    "# #     1, 2, 3,\n",
    "# #     1, 2, NA,\n",
    "# #     1, 2, NA, \n",
    "# #     4, 5, 6\n",
    "# # )\n",
    "\n",
    "# # Identify cells that still have the same Nested_ID number\n",
    "# duplicates <- tbl %>% group_by(nested_id) %>% filter(n()>1 & !(nested_id %in% NA)) %>% ungroup() %>% arrange(nested_id)\n",
    "\n",
    "# # Each of these observations has a duplicate Nested_ID, but a slightly different combination of variable values. \n",
    "# # I'm saving these observations for reference later, but will keep the rows in the dataset.\n",
    "# write_csv(duplicates,\"duplicates.csv\")"
   ]
  },
  {
   "cell_type": "code",
   "execution_count": null,
   "metadata": {},
   "outputs": [],
   "source": [
    "# # This cell verified that there were crash ID's that were shared between distinct events\n",
    "\n",
    "# # There are instances of duplicate crash ID's being used in distinct events, but they took place outside of the Indy metro region so I will not work to correct it in this analysis\n",
    "\n",
    "# library(tidyr)\n",
    "\n",
    "# testing <- tbl %>% \n",
    "#     select(-UNITNMB, -OCCUPSNMB, -PERSONNMB, -PERSONTYPEDESCR, -personKey, -personMode) %>%\n",
    "#     unite(lat_long, LATDECIMALNMB, LONGDECIMALNMB) %>%\n",
    "#     group_by(INDIVIDUAL_MR_RECORD) %>%\n",
    "#     filter(n_distinct(lat_long)>1) %>%\n",
    "#     ungroup() %>% \n",
    "#     arrange(INDIVIDUAL_MR_RECORD)"
   ]
  },
  {
   "cell_type": "code",
   "execution_count": null,
   "metadata": {},
   "outputs": [],
   "source": [
    "# # This cell tried to catch variables whose associated crash indicated there was a pedestrian involved\n",
    "# tbl <- tbl %>%\n",
    "#     group_by(INDIVIDUAL_MR_RECORD) %>%\n",
    "#     mutate(activeCrash = cumany(active %in% \"active\")) %>%\n",
    "#     ungroup()\n",
    "\n",
    "# str(tbl)"
   ]
  }
 ],
 "metadata": {
  "kernelspec": {
   "display_name": "R",
   "language": "R",
   "name": "ir"
  },
  "language_info": {
   "codemirror_mode": "r",
   "file_extension": ".r",
   "mimetype": "text/x-r-source",
   "name": "R",
   "pygments_lexer": "r",
   "version": "3.6.1"
  }
 },
 "nbformat": 4,
 "nbformat_minor": 4
}
